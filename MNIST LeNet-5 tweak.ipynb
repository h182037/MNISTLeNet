{
 "cells": [
  {
   "cell_type": "markdown",
   "metadata": {},
   "source": [
    "# 1. Setting up Google Compute Engine\n",
    "\t\n",
    "\tFirstly a google compute engine instance was created, I used putty to generate private and public keys for the ssh protocol, but later I realized that Google had an easier way of connecting to the instance by autogenerating. There was no info telling us whether to use codelabs or jupyter notebooks, so I chose the latter. Installation of all the tools in GCE was a hassle, I tried to only install the neccessary tools, like python, jupyter, keras, tensorflow, plotting tools, etc,  but it seems 10 gigabytes is simply not enough. I am still looking to set up the instance in a more lightweight manner. Also, to launch the browserbased notebook, some firewall changes needed to be done, and a static external IP adress need to be reserved, so this might not be the optimal solution. \n",
    "\t\n",
    "\tTo summarize, I got parts of my notebook to work, and some parts are missing the neccessary tools. Also I noticed that the time it took to do the computations in GCE did not differ much from the time it took to run them locally on my machine. So unless we can use Tensor Proccessing Units in GCE the reward is not very big. \n",
    "\t\n"
   ]
  },
  {
   "cell_type": "markdown",
   "metadata": {},
   "source": [
    "# \t2. MNIST Classification using LeNet-5 architecture\n",
    "\t\n",
    "\tLink to my github repository: https://github.com/h182037/MNIST\n",
    "    \n",
    "    Below are the tools used for this assignment, aswell as the simple data preproccessing and a quick check on how the data looks.\n",
    "    \n",
    "    The dataset is imported from keras, 60'000 training data, and 10'000 validation data, then its normalized, encoded, and reshaped before its ready to be trained on.\n"
   ]
  },
  {
   "cell_type": "code",
   "execution_count": 1,
   "metadata": {},
   "outputs": [
    {
     "name": "stderr",
     "output_type": "stream",
     "text": [
      "Using TensorFlow backend.\n"
     ]
    }
   ],
   "source": [
    "from keras.datasets import mnist\n",
    "import numpy as np\n",
    "import pandas as pd\n",
    "import matplotlib.pyplot as plt\n",
    "import keras.utils as np_utils\n",
    "from keras.models import Sequential\n",
    "from keras import models, layers\n",
    "from keras.layers import Dropout\n",
    "from keras.wrappers.scikit_learn import KerasClassifier\n",
    "from sklearn.model_selection import GridSearchCV\n",
    "from keras import regularizers\n",
    "import keras\n",
    "(x_train, y_train), (x_test, y_test) = mnist.load_data()\n",
    "\n",
    "# resources:\n",
    "# https://engmrk.com/lenet-5-a-classic-cnn-architecture/\n",
    "# https://keras.io/\n",
    "# https://github.com/ryanleeallred/MNIST-convnet-gridsearch/blob/master/param_tuning.ipynb"
   ]
  },
  {
   "cell_type": "code",
   "execution_count": 2,
   "metadata": {},
   "outputs": [],
   "source": [
    "x_train = x_train.astype('float32')\n",
    "x_test = x_test.astype('float32')"
   ]
  },
  {
   "cell_type": "code",
   "execution_count": 3,
   "metadata": {},
   "outputs": [
    {
     "data": {
      "text/plain": [
       "(60000, 28, 28)"
      ]
     },
     "execution_count": 3,
     "metadata": {},
     "output_type": "execute_result"
    }
   ],
   "source": [
    "x_train.shape"
   ]
  },
  {
   "cell_type": "code",
   "execution_count": 4,
   "metadata": {},
   "outputs": [
    {
     "data": {
      "text/plain": [
       "(10000, 28, 28)"
      ]
     },
     "execution_count": 4,
     "metadata": {},
     "output_type": "execute_result"
    }
   ],
   "source": [
    "x_test.shape"
   ]
  },
  {
   "cell_type": "code",
   "execution_count": 5,
   "metadata": {},
   "outputs": [
    {
     "data": {
      "text/plain": [
       "5"
      ]
     },
     "execution_count": 5,
     "metadata": {},
     "output_type": "execute_result"
    }
   ],
   "source": [
    "y_train[0]"
   ]
  },
  {
   "cell_type": "code",
   "execution_count": 6,
   "metadata": {},
   "outputs": [
    {
     "data": {
      "text/plain": [
       "<matplotlib.image.AxesImage at 0x18d88630c18>"
      ]
     },
     "execution_count": 6,
     "metadata": {},
     "output_type": "execute_result"
    },
    {
     "data": {
      "image/png": "[encoded data removed]",
      "text/plain": [
       "<Figure size 432x288 with 1 Axes>"
      ]
     },
     "metadata": {
      "needs_background": "light"
     },
     "output_type": "display_data"
    }
   ],
   "source": [
    "image = np.array(x_train[0], dtype='uint8')\n",
    "pixels = image.reshape((28, 28))\n",
    "plt.imshow(pixels, cmap='gray_r')"
   ]
  },
  {
   "cell_type": "code",
   "execution_count": 7,
   "metadata": {},
   "outputs": [],
   "source": [
    "# normalizing\n",
    "x_train /= 255\n",
    "x_test /= 255\n",
    "\n",
    "# transformation\n",
    "y_train = np_utils.to_categorical(y_train, 10)\n",
    "y_test = np_utils.to_categorical(y_test, 10)\n",
    "\n",
    "# reshape\n",
    "x_train = x_train.reshape(x_train.shape[0], 28,28,1)\n",
    "x_test = x_test.reshape(x_test.shape[0], 28,28,1)"
   ]
  },
  {
   "cell_type": "markdown",
   "metadata": {},
   "source": [
    "# \tThis is how it looked before hyperparameterizing:\n",
    "\t\n",
    "\tThis project started out with a true copy of the LeNet-5 architecture. \n",
    "\tResource: https://engmrk.com/lenet-5-a-classic-cnn-architecture/\n",
    "\n",
    "\tLayer 1: Convolutional, dimension 6, kernel size (5,5), strides (1,1), activation tanh.\n",
    "\tLayer 2: Pooling,  pooling size (2,2), strides (2,2).\n",
    "\tLayer 3: Convolutional, dimension 16  kernel size (5,5), strides (1,1), activation tanh.\n",
    "\tLayer 4: Pooling, pooling size (2,2), strides (2,2). \n",
    "\tLayer 5: Convolutional, dimension 120, kernel size (5,5), strides (1,1), activation tanh.\n",
    "\tLayer 6: Dense, dimension 84, activation tanh.\n",
    "\tLayer 7: Dense/output, dimension 10, activation softmax.\n",
    "    With optimizer Stochastic Gradient Descent, batch size of 64, default learning rate (Which I believe is 0.01 and no momentum)"
   ]
  },
  {
   "cell_type": "code",
   "execution_count": 23,
   "metadata": {},
   "outputs": [],
   "source": [
    "#model creation function, this is used to build a specific model for each of the parameter selection steps.\n",
    "def create_model(optimizer, activation_1, activation_2, activation_3, activation_4, kernel_size, pool_size, dropout_1, dropout_2):\n",
    "    model = Sequential()\n",
    "    # First convolutional layer\n",
    "    model.add(layers.Conv2D(6, kernel_size=kernel_size, strides=(1, 1), activation=activation_1, input_shape=(28,28,1), padding=\"same\"))\n",
    "\n",
    "    # First pooling layer\n",
    "    model.add(layers.AveragePooling2D(pool_size=pool_size, strides=(1, 1), padding='valid'))\n",
    "    \n",
    "    # Second convolutional layer\n",
    "    model.add(layers.Conv2D(16, kernel_size=kernel_size, strides=(1, 1), activation=activation_2, padding='valid'))\n",
    "    \n",
    "    # Second pooling layer\n",
    "    model.add(layers.AveragePooling2D(pool_size=pool_size, strides=(2, 2), padding='valid'))\n",
    "    \n",
    "    # Connected convolutional layer\n",
    "    model.add(layers.Conv2D(120, kernel_size=kernel_size, strides=(1, 1), activation=activation_3, padding='valid'))\n",
    "    model.add(layers.Flatten())\n",
    "    model.add(Dropout(dropout_1)) \n",
    "    # Connected layer\n",
    "    model.add(layers.Dense(84, activation=activation_4))\n",
    "    model.add(Dropout(dropout_2)) \n",
    "    # Output layer\n",
    "    model.add(layers.Dense(10, activation='softmax'))\n",
    "    \n",
    "    # build/compile\n",
    "    model.compile(loss=keras.losses.categorical_crossentropy, optimizer='Nadam', metrics=[\"accuracy\"])\n",
    "    return model"
   ]
  },
  {
   "cell_type": "markdown",
   "metadata": {},
   "source": [
    "# Step by step GridSearchCV\n",
    "\tI use GridSearchCV for my hyperparameter tuning, as it makes the tuning more compact codewise. \n",
    "\tTo save some time the amount of epochs is limited to 3 or 4 per tuning step. \n",
    "\t4 epochs might not give the most representational data, but unfortunately tuning takes some time. \n",
    "    Loss is keras categorical crossentropy, and accuracy as metric.\n",
    "    \n",
    "    I ran a gridsearch for the best result over these parameters:\n",
    "\tBatch size\n",
    "\tOptimizer\n",
    "\t4 activations\n",
    "\tUniversal kernel size\n",
    "\tUniversal pool size\n",
    "\t2 dropouts\n",
    "\t2 kernel regularizations\n",
    "\t2 bias regularizations\n",
    "    \n",
    "    I do not have the resources to run gridsearch over all the parameters at the same time, as that would take me weeks of computing, so I am forced to to it step by step. This will not yield a true optimal tuning, but it is a start. So every step will compute a subset of parameters using the original architecture as a basis and change the parameters for the next parameter grid search. \n",
    "\t\n",
    "\tThe number of layers and nodes are not changed from the original architecture, and neither are strides. \n"
   ]
  },
  {
   "cell_type": "code",
   "execution_count": 27,
   "metadata": {
    "scrolled": true
   },
   "outputs": [
    {
     "name": "stdout",
     "output_type": "stream",
     "text": [
      "Fitting 2 folds for each of 5 candidates, totalling 10 fits\n"
     ]
    },
    {
     "name": "stderr",
     "output_type": "stream",
     "text": [
      "[Parallel(n_jobs=1)]: Using backend SequentialBackend with 1 concurrent workers.\n"
     ]
    },
    {
     "name": "stdout",
     "output_type": "stream",
     "text": [
      "Epoch 1/4\n",
      "30000/30000 [==============================] - 50s 2ms/step - loss: 0.4239 - acc: 0.8697: 6s\n",
      "Epoch 2/4\n",
      "30000/30000 [==============================] - 53s 2ms/step - loss: 0.3139 - acc: 0.9053\n",
      "Epoch 3/4\n",
      "30000/30000 [==============================] - 57s 2ms/step - loss: 0.2778 - acc: 0.9152: 1s - lo\n",
      "Epoch 4/4\n",
      "30000/30000 [==============================] - 58s 2ms/step - loss: 0.2611 - acc: 0.9193: 1s - loss: 0.2620 -  - ETA: 0s - loss: 0.2614\n",
      "30000/30000 [==============================] - 17s 568us/step\n",
      "30000/30000 [==============================] - 18s 588us/step\n",
      "Epoch 1/4\n",
      "30000/30000 [==============================] - 56s 2ms/step - loss: 0.4298 - acc: 0.8685\n",
      "Epoch 2/4\n",
      "30000/30000 [==============================] - 55s 2ms/step - loss: 0.3104 - acc: 0.9062\n",
      "Epoch 3/4\n",
      "30000/30000 [==============================] - 58s 2ms/step - loss: 0.2820 - acc: 0.9143\n",
      "Epoch 4/4\n",
      "30000/30000 [==============================] - 59s 2ms/step - loss: 0.2539 - acc: 0.9246\n",
      "30000/30000 [==============================] - 18s 583us/step\n",
      "30000/30000 [==============================] - 17s 563us/step\n",
      "Epoch 1/4\n",
      "30000/30000 [==============================] - 31s 1ms/step - loss: 0.3336 - acc: 0.9023\n",
      "Epoch 2/4\n",
      "30000/30000 [==============================] - 31s 1ms/step - loss: 0.2383 - acc: 0.9273\n",
      "Epoch 3/4\n",
      "30000/30000 [==============================] - 31s 1ms/step - loss: 0.1985 - acc: 0.9410\n",
      "Epoch 4/4\n",
      "30000/30000 [==============================] - 32s 1ms/step - loss: 0.1719 - acc: 0.9486\n",
      "30000/30000 [==============================] - 13s 418us/step\n",
      "30000/30000 [==============================] - 12s 402us/step\n",
      "Epoch 1/4\n",
      "30000/30000 [==============================] - 28s 943us/step - loss: 0.3283 - acc: 0.9024\n",
      "Epoch 2/4\n",
      "30000/30000 [==============================] - 26s 882us/step - loss: 0.2484 - acc: 0.9275\n",
      "Epoch 3/4\n",
      "30000/30000 [==============================] - 28s 917us/step - loss: 0.2059 - acc: 0.9383\n",
      "Epoch 4/4\n",
      "30000/30000 [==============================] - 29s 975us/step - loss: 0.1813 - acc: 0.9443\n",
      "30000/30000 [==============================] - 12s 402us/step\n",
      "30000/30000 [==============================] - 12s 399us/step\n",
      "Epoch 1/4\n",
      "30000/30000 [==============================] - 27s 911us/step - loss: 0.3203 - acc: 0.9054\n",
      "Epoch 2/4\n",
      "30000/30000 [==============================] - 27s 888us/step - loss: 0.2176 - acc: 0.9356\n",
      "Epoch 3/4\n",
      "30000/30000 [==============================] - 27s 912us/step - loss: 0.1891 - acc: 0.9449\n",
      "Epoch 4/4\n",
      "30000/30000 [==============================] - 27s 905us/step - loss: 0.1629 - acc: 0.9515\n",
      "30000/30000 [==============================] - 12s 409us/step\n",
      "30000/30000 [==============================] - 12s 386us/step\n",
      "Epoch 1/4\n",
      "30000/30000 [==============================] - 28s 928us/step - loss: 0.3268 - acc: 0.9041\n",
      "Epoch 2/4\n",
      "30000/30000 [==============================] - 23s 778us/step - loss: 0.2106 - acc: 0.9387\n",
      "Epoch 3/4\n",
      "30000/30000 [==============================] - 23s 752us/step - loss: 0.1866 - acc: 0.9452\n",
      "Epoch 4/4\n",
      "30000/30000 [==============================] - 24s 788us/step - loss: 0.1658 - acc: 0.9489\n",
      "30000/30000 [==============================] - 11s 360us/step\n",
      "30000/30000 [==============================] - 10s 347us/step\n",
      "Epoch 1/4\n",
      "30000/30000 [==============================] - 25s 819us/step - loss: 0.3442 - acc: 0.89910s - loss: 0.3474 - acc:\n",
      "Epoch 2/4\n",
      "30000/30000 [==============================] - 23s 782us/step - loss: 0.2067 - acc: 0.9389\n",
      "Epoch 3/4\n",
      "30000/30000 [==============================] - 24s 789us/step - loss: 0.1822 - acc: 0.9455\n",
      "Epoch 4/4\n",
      "30000/30000 [==============================] - 24s 810us/step - loss: 0.1613 - acc: 0.9514\n",
      "30000/30000 [==============================] - 11s 364us/step\n",
      "30000/30000 [==============================] - 11s 352us/step\n",
      "Epoch 1/4\n",
      "30000/30000 [==============================] - 27s 895us/step - loss: 0.3345 - acc: 0.9018\n",
      "Epoch 2/4\n",
      "30000/30000 [==============================] - 25s 833us/step - loss: 0.2054 - acc: 0.9394\n",
      "Epoch 3/4\n",
      "30000/30000 [==============================] - 22s 735us/step - loss: 0.1784 - acc: 0.9478\n",
      "Epoch 4/4\n",
      "30000/30000 [==============================] - 23s 778us/step - loss: 0.1591 - acc: 0.9524\n",
      "30000/30000 [==============================] - 11s 362us/step\n",
      "30000/30000 [==============================] - 10s 345us/step\n",
      "Epoch 1/4\n",
      "30000/30000 [==============================] - 24s 788us/step - loss: 0.3526 - acc: 0.8940\n",
      "Epoch 2/4\n",
      "30000/30000 [==============================] - 23s 758us/step - loss: 0.1943 - acc: 0.9438\n",
      "Epoch 3/4\n",
      "30000/30000 [==============================] - 23s 778us/step - loss: 0.1643 - acc: 0.9522\n",
      "Epoch 4/4\n",
      "30000/30000 [==============================] - 23s 781us/step - loss: 0.1330 - acc: 0.9609\n",
      "30000/30000 [==============================] - 12s 385us/step\n",
      "30000/30000 [==============================] - 11s 369us/step\n",
      "Epoch 1/4\n",
      "30000/30000 [==============================] - 25s 831us/step - loss: 0.3490 - acc: 0.8947\n",
      "Epoch 2/4\n",
      "30000/30000 [==============================] - 24s 798us/step - loss: 0.1857 - acc: 0.9460\n",
      "Epoch 3/4\n",
      "30000/30000 [==============================] - 24s 794us/step - loss: 0.1502 - acc: 0.9557\n",
      "Epoch 4/4\n",
      "30000/30000 [==============================] - 21s 712us/step - loss: 0.1309 - acc: 0.9603\n",
      "30000/30000 [==============================] - 10s 329us/step\n",
      "30000/30000 [==============================] - 10s 326us/step\n"
     ]
    },
    {
     "name": "stderr",
     "output_type": "stream",
     "text": [
      "[Parallel(n_jobs=1)]: Done  10 out of  10 | elapsed: 25.4min finished\n"
     ]
    },
    {
     "name": "stdout",
     "output_type": "stream",
     "text": [
      "Epoch 1/4\n",
      "60000/60000 [==============================] - 38s 640us/step - loss: 0.2826 - acc: 0.9173\n",
      "Epoch 2/4\n",
      "60000/60000 [==============================] - 38s 627us/step - loss: 0.1615 - acc: 0.9532\n",
      "Epoch 3/4\n",
      "60000/60000 [==============================] - 39s 646us/step - loss: 0.1203 - acc: 0.9641\n",
      "Epoch 4/4\n",
      "60000/60000 [==============================] - 36s 602us/step - loss: 0.1007 - acc: 0.9698\n",
      "Best: 0.955300 using {'activation_1': 'tanh', 'activation_2': 'tanh', 'activation_3': 'tanh', 'activation_4': 'tanh', 'batch_size': 200, 'dropout_1': 0.0, 'dropout_2': 0.0, 'epochs': 4, 'kernel_size': [5, 5], 'optimizer': 'SGD', 'pool_size': [2, 2]}\n",
      "0.927483 (0.003550) with: {'activation_1': 'tanh', 'activation_2': 'tanh', 'activation_3': 'tanh', 'activation_4': 'tanh', 'batch_size': 10, 'dropout_1': 0.0, 'dropout_2': 0.0, 'epochs': 4, 'kernel_size': [5, 5], 'optimizer': 'SGD', 'pool_size': [2, 2]}\n",
      "0.945017 (0.005983) with: {'activation_1': 'tanh', 'activation_2': 'tanh', 'activation_3': 'tanh', 'activation_4': 'tanh', 'batch_size': 50, 'dropout_1': 0.0, 'dropout_2': 0.0, 'epochs': 4, 'kernel_size': [5, 5], 'optimizer': 'SGD', 'pool_size': [2, 2]}\n",
      "0.951483 (0.000183) with: {'activation_1': 'tanh', 'activation_2': 'tanh', 'activation_3': 'tanh', 'activation_4': 'tanh', 'batch_size': 100, 'dropout_1': 0.0, 'dropout_2': 0.0, 'epochs': 4, 'kernel_size': [5, 5], 'optimizer': 'SGD', 'pool_size': [2, 2]}\n",
      "0.946667 (0.001267) with: {'activation_1': 'tanh', 'activation_2': 'tanh', 'activation_3': 'tanh', 'activation_4': 'tanh', 'batch_size': 120, 'dropout_1': 0.0, 'dropout_2': 0.0, 'epochs': 4, 'kernel_size': [5, 5], 'optimizer': 'SGD', 'pool_size': [2, 2]}\n",
      "0.955300 (0.002267) with: {'activation_1': 'tanh', 'activation_2': 'tanh', 'activation_3': 'tanh', 'activation_4': 'tanh', 'batch_size': 200, 'dropout_1': 0.0, 'dropout_2': 0.0, 'epochs': 4, 'kernel_size': [5, 5], 'optimizer': 'SGD', 'pool_size': [2, 2]}\n",
      "Best: 0.955300 using {'activation_1': 'tanh', 'activation_2': 'tanh', 'activation_3': 'tanh', 'activation_4': 'tanh', 'batch_size': 200, 'dropout_1': 0.0, 'dropout_2': 0.0, 'epochs': 4, 'kernel_size': [5, 5], 'optimizer': 'SGD', 'pool_size': [2, 2]}\n",
      "10000/10000 [==============================] - 3s 330us/step\n",
      "Test Accuracy 0.971300003528595\n"
     ]
    }
   ],
   "source": [
    "#batch size grid search over 10, 50, 100, 120, 200\n",
    "seed = 42\n",
    "np.random.seed(seed)\n",
    "\n",
    "param_grid = {'epochs': [4],\n",
    "              'batch_size': [10, 50, 100, 120, 200],\n",
    "              'optimizer': ['SGD'],\n",
    "              'activation_1' : ['tanh'],\n",
    "              'activation_2' : ['tanh'],\n",
    "              'activation_3' : ['tanh'],\n",
    "              'activation_4' : ['tanh'],\n",
    "              'kernel_size' : [[5,5]],\n",
    "              'pool_size' : [[2,2]],\n",
    "              'dropout_1' : [0.0],\n",
    "              'dropout_2' : [0.0]\n",
    "             }\n",
    "\n",
    "my_classifier = KerasClassifier(create_model)\n",
    "\n",
    "grid = GridSearchCV(my_classifier, param_grid, cv=2, n_jobs=1, verbose=1)\n",
    "\n",
    "grid_result = grid.fit(x_train, y_train)\n",
    "# summarize results\n",
    "print(\"Best: %f using %s\" % (grid_result.best_score_, grid_result.best_params_))\n",
    "means = grid_result.cv_results_['mean_test_score']\n",
    "stds = grid_result.cv_results_['std_test_score']\n",
    "params = grid_result.cv_results_['params']\n",
    "for mean, stdev, param in zip(means, stds, params):\n",
    "    print(\"%f (%f) with: %r\" % (mean, stdev, param))\n",
    "    \n",
    "# Print Results\n",
    "print(\"Best: %f using %s\" % (grid_result.best_score_, grid_result.best_params_))\n",
    "\n",
    "# Print Test Accuracy\n",
    "print(\"Test Accuracy\", grid_result.score(x_test, y_test))\n"
   ]
  },
  {
   "cell_type": "markdown",
   "metadata": {},
   "source": [
    "# BEST BATCH SIZE: 200\n",
    "    Test Accuracy: 97.13%"
   ]
  },
  {
   "cell_type": "code",
   "execution_count": 29,
   "metadata": {},
   "outputs": [
    {
     "name": "stdout",
     "output_type": "stream",
     "text": [
      "Fitting 2 folds for each of 7 candidates, totalling 14 fits\n"
     ]
    },
    {
     "name": "stderr",
     "output_type": "stream",
     "text": [
      "[Parallel(n_jobs=1)]: Using backend SequentialBackend with 1 concurrent workers.\n"
     ]
    },
    {
     "name": "stdout",
     "output_type": "stream",
     "text": [
      "Epoch 1/4\n",
      "30000/30000 [==============================] - 19s 640us/step - loss: 0.3378 - acc: 0.9007\n",
      "Epoch 2/4\n",
      "30000/30000 [==============================] - 18s 594us/step - loss: 0.1947 - acc: 0.9437\n",
      "Epoch 3/4\n",
      "30000/30000 [==============================] - 18s 594us/step - loss: 0.1635 - acc: 0.9512\n",
      "Epoch 4/4\n",
      "30000/30000 [==============================] - 18s 594us/step - loss: 0.1416 - acc: 0.9580\n",
      "30000/30000 [==============================] - 9s 298us/step\n",
      "30000/30000 [==============================] - 8s 279us/step\n",
      "Epoch 1/4\n",
      "30000/30000 [==============================] - 19s 639us/step - loss: 0.3606 - acc: 0.8936\n",
      "Epoch 2/4\n",
      "30000/30000 [==============================] - 18s 591us/step - loss: 0.1931 - acc: 0.9445\n",
      "Epoch 3/4\n",
      "30000/30000 [==============================] - 18s 592us/step - loss: 0.1608 - acc: 0.9534\n",
      "Epoch 4/4\n",
      "30000/30000 [==============================] - 18s 593us/step - loss: 0.1347 - acc: 0.9593\n",
      "30000/30000 [==============================] - 9s 296us/step\n",
      "30000/30000 [==============================] - 8s 280us/step\n",
      "Epoch 1/4\n",
      "30000/30000 [==============================] - 19s 642us/step - loss: 0.3385 - acc: 0.8985\n",
      "Epoch 2/4\n",
      "30000/30000 [==============================] - 18s 591us/step - loss: 0.2027 - acc: 0.9422\n",
      "Epoch 3/4\n",
      "30000/30000 [==============================] - 18s 592us/step - loss: 0.1763 - acc: 0.9491\n",
      "Epoch 4/4\n",
      "30000/30000 [==============================] - 18s 599us/step - loss: 0.1472 - acc: 0.9569\n",
      "30000/30000 [==============================] - 9s 297us/step\n",
      "30000/30000 [==============================] - 8s 281us/step\n",
      "Epoch 1/4\n",
      "30000/30000 [==============================] - 19s 641us/step - loss: 0.3375 - acc: 0.9003\n",
      "Epoch 2/4\n",
      "30000/30000 [==============================] - 18s 590us/step - loss: 0.1985 - acc: 0.9430\n",
      "Epoch 3/4\n",
      "30000/30000 [==============================] - 18s 602us/step - loss: 0.1701 - acc: 0.9508\n",
      "Epoch 4/4\n",
      "30000/30000 [==============================] - 18s 591us/step - loss: 0.1501 - acc: 0.9553\n",
      "30000/30000 [==============================] - 9s 313us/step\n",
      "30000/30000 [==============================] - 8s 281us/step\n",
      "Epoch 1/4\n",
      "30000/30000 [==============================] - 19s 644us/step - loss: 0.3430 - acc: 0.8993\n",
      "Epoch 2/4\n",
      "30000/30000 [==============================] - 18s 604us/step - loss: 0.2001 - acc: 0.9419\n",
      "Epoch 3/4\n",
      "30000/30000 [==============================] - 18s 600us/step - loss: 0.1649 - acc: 0.9528\n",
      "Epoch 4/4\n",
      "30000/30000 [==============================] - 18s 603us/step - loss: 0.1423 - acc: 0.9585\n",
      "30000/30000 [==============================] - 9s 303us/step\n",
      "30000/30000 [==============================] - 8s 282us/step\n",
      "Epoch 1/4\n",
      "30000/30000 [==============================] - 20s 656us/step - loss: 0.3560 - acc: 0.8951\n",
      "Epoch 2/4\n",
      "30000/30000 [==============================] - 18s 596us/step - loss: 0.1916 - acc: 0.9456\n",
      "Epoch 3/4\n",
      "30000/30000 [==============================] - 18s 598us/step - loss: 0.1579 - acc: 0.9541\n",
      "Epoch 4/4\n",
      "30000/30000 [==============================] - 18s 600us/step - loss: 0.1328 - acc: 0.9603\n",
      "30000/30000 [==============================] - 9s 302us/step\n",
      "30000/30000 [==============================] - 9s 289us/step\n",
      "Epoch 1/4\n",
      "30000/30000 [==============================] - 20s 655us/step - loss: 0.3745 - acc: 0.8890\n",
      "Epoch 2/4\n",
      "30000/30000 [==============================] - 18s 598us/step - loss: 0.1987 - acc: 0.9415\n",
      "Epoch 3/4\n",
      "30000/30000 [==============================] - 18s 607us/step - loss: 0.1613 - acc: 0.9544\n",
      "Epoch 4/4\n",
      "30000/30000 [==============================] - 18s 599us/step - loss: 0.1397 - acc: 0.9591\n",
      "30000/30000 [==============================] - 9s 305us/step\n",
      "30000/30000 [==============================] - 9s 287us/step\n",
      "Epoch 1/4\n",
      "30000/30000 [==============================] - 20s 657us/step - loss: 0.3563 - acc: 0.8955\n",
      "Epoch 2/4\n",
      "30000/30000 [==============================] - 18s 606us/step - loss: 0.1977 - acc: 0.9430\n",
      "Epoch 3/4\n",
      "30000/30000 [==============================] - 18s 594us/step - loss: 0.1607 - acc: 0.9526\n",
      "Epoch 4/4\n",
      "30000/30000 [==============================] - 18s 600us/step - loss: 0.1391 - acc: 0.9577\n",
      "30000/30000 [==============================] - 9s 306us/step\n",
      "30000/30000 [==============================] - 8s 282us/step\n",
      "Epoch 1/4\n",
      "30000/30000 [==============================] - 20s 663us/step - loss: 0.3522 - acc: 0.8936\n",
      "Epoch 2/4\n",
      "30000/30000 [==============================] - 18s 600us/step - loss: 0.1906 - acc: 0.9454\n",
      "Epoch 3/4\n",
      "30000/30000 [==============================] - 18s 600us/step - loss: 0.1555 - acc: 0.9536\n",
      "Epoch 4/4\n",
      "30000/30000 [==============================] - 18s 605us/step - loss: 0.1249 - acc: 0.9625\n",
      "30000/30000 [==============================] - 9s 310us/step\n",
      "30000/30000 [==============================] - 9s 284us/step\n",
      "Epoch 1/4\n",
      "30000/30000 [==============================] - 20s 660us/step - loss: 0.3489 - acc: 0.8938\n",
      "Epoch 2/4\n",
      "30000/30000 [==============================] - 18s 602us/step - loss: 0.1839 - acc: 0.9470\n",
      "Epoch 3/4\n",
      "30000/30000 [==============================] - 18s 609us/step - loss: 0.1497 - acc: 0.9552\n",
      "Epoch 4/4\n",
      "30000/30000 [==============================] - 18s 610us/step - loss: 0.1287 - acc: 0.9623\n",
      "30000/30000 [==============================] - 10s 318us/step\n",
      "30000/30000 [==============================] - 9s 291us/step\n",
      "Epoch 1/4\n",
      "30000/30000 [==============================] - 20s 662us/step - loss: 0.3581 - acc: 0.8920\n",
      "Epoch 2/4\n",
      "30000/30000 [==============================] - 18s 604us/step - loss: 0.1998 - acc: 0.9407\n",
      "Epoch 3/4\n",
      "30000/30000 [==============================] - 18s 612us/step - loss: 0.1649 - acc: 0.9515\n",
      "Epoch 4/4\n",
      "30000/30000 [==============================] - 19s 638us/step - loss: 0.1407 - acc: 0.9573\n",
      "30000/30000 [==============================] - 9s 314us/step\n",
      "30000/30000 [==============================] - 9s 283us/step\n",
      "Epoch 1/4\n",
      "30000/30000 [==============================] - 20s 660us/step - loss: 0.3406 - acc: 0.9001\n",
      "Epoch 2/4\n",
      "30000/30000 [==============================] - 18s 600us/step - loss: 0.1916 - acc: 0.9441\n",
      "Epoch 3/4\n",
      "30000/30000 [==============================] - 18s 602us/step - loss: 0.1608 - acc: 0.9520\n",
      "Epoch 4/4\n",
      "30000/30000 [==============================] - 18s 597us/step - loss: 0.1379 - acc: 0.9589\n",
      "30000/30000 [==============================] - 10s 323us/step\n",
      "30000/30000 [==============================] - 9s 288us/step\n",
      "Epoch 1/4\n",
      "30000/30000 [==============================] - 20s 666us/step - loss: 0.3423 - acc: 0.8972\n",
      "Epoch 2/4\n",
      "30000/30000 [==============================] - 18s 604us/step - loss: 0.1921 - acc: 0.9447\n",
      "Epoch 3/4\n",
      "30000/30000 [==============================] - 18s 601us/step - loss: 0.1498 - acc: 0.9556\n",
      "Epoch 4/4\n",
      "30000/30000 [==============================] - 18s 606us/step - loss: 0.1104 - acc: 0.9668\n",
      "30000/30000 [==============================] - 9s 314us/step\n",
      "30000/30000 [==============================] - 9s 283us/step\n",
      "Epoch 1/4\n",
      "30000/30000 [==============================] - 20s 663us/step - loss: 0.3327 - acc: 0.9001\n",
      "Epoch 2/4\n",
      "30000/30000 [==============================] - 18s 596us/step - loss: 0.1971 - acc: 0.9428\n",
      "Epoch 3/4\n",
      "30000/30000 [==============================] - 18s 608us/step - loss: 0.1698 - acc: 0.9502\n",
      "Epoch 4/4\n",
      "30000/30000 [==============================] - 18s 600us/step - loss: 0.1465 - acc: 0.9567\n",
      "30000/30000 [==============================] - 9s 312us/step\n",
      "30000/30000 [==============================] - 9s 290us/step\n"
     ]
    },
    {
     "name": "stderr",
     "output_type": "stream",
     "text": [
      "[Parallel(n_jobs=1)]: Done  14 out of  14 | elapsed: 21.5min finished\n"
     ]
    },
    {
     "name": "stdout",
     "output_type": "stream",
     "text": [
      "Epoch 1/4\n",
      "60000/60000 [==============================] - 38s 639us/step - loss: 0.2727 - acc: 0.9193\n",
      "Epoch 2/4\n",
      "60000/60000 [==============================] - 36s 602us/step - loss: 0.1222 - acc: 0.9638\n",
      "Epoch 3/4\n",
      "60000/60000 [==============================] - 36s 600us/step - loss: 0.0948 - acc: 0.9719\n",
      "Epoch 4/4\n",
      "60000/60000 [==============================] - 36s 605us/step - loss: 0.0873 - acc: 0.9736\n",
      "Best: 0.959450 using {'activation_1': 'tanh', 'activation_2': 'tanh', 'activation_3': 'tanh', 'activation_4': 'tanh', 'batch_size': 200, 'dropout_1': 0.0, 'dropout_2': 0.0, 'epochs': 4, 'kernel_size': [5, 5], 'optimizer': 'Adam', 'pool_size': [2, 2]}\n",
      "0.956717 (0.000883) with: {'activation_1': 'tanh', 'activation_2': 'tanh', 'activation_3': 'tanh', 'activation_4': 'tanh', 'batch_size': 200, 'dropout_1': 0.0, 'dropout_2': 0.0, 'epochs': 4, 'kernel_size': [5, 5], 'optimizer': 'SGD', 'pool_size': [2, 2]}\n",
      "0.952000 (0.001833) with: {'activation_1': 'tanh', 'activation_2': 'tanh', 'activation_3': 'tanh', 'activation_4': 'tanh', 'batch_size': 200, 'dropout_1': 0.0, 'dropout_2': 0.0, 'epochs': 4, 'kernel_size': [5, 5], 'optimizer': 'RMSprop', 'pool_size': [2, 2]}\n",
      "0.955200 (0.000267) with: {'activation_1': 'tanh', 'activation_2': 'tanh', 'activation_3': 'tanh', 'activation_4': 'tanh', 'batch_size': 200, 'dropout_1': 0.0, 'dropout_2': 0.0, 'epochs': 4, 'kernel_size': [5, 5], 'optimizer': 'Adagrad', 'pool_size': [2, 2]}\n",
      "0.954267 (0.001267) with: {'activation_1': 'tanh', 'activation_2': 'tanh', 'activation_3': 'tanh', 'activation_4': 'tanh', 'batch_size': 200, 'dropout_1': 0.0, 'dropout_2': 0.0, 'epochs': 4, 'kernel_size': [5, 5], 'optimizer': 'Adadelta', 'pool_size': [2, 2]}\n",
      "0.959450 (0.002850) with: {'activation_1': 'tanh', 'activation_2': 'tanh', 'activation_3': 'tanh', 'activation_4': 'tanh', 'batch_size': 200, 'dropout_1': 0.0, 'dropout_2': 0.0, 'epochs': 4, 'kernel_size': [5, 5], 'optimizer': 'Adam', 'pool_size': [2, 2]}\n",
      "0.954283 (0.001050) with: {'activation_1': 'tanh', 'activation_2': 'tanh', 'activation_3': 'tanh', 'activation_4': 'tanh', 'batch_size': 200, 'dropout_1': 0.0, 'dropout_2': 0.0, 'epochs': 4, 'kernel_size': [5, 5], 'optimizer': 'Nadam', 'pool_size': [2, 2]}\n",
      "0.958400 (0.005800) with: {'activation_1': 'tanh', 'activation_2': 'tanh', 'activation_3': 'tanh', 'activation_4': 'tanh', 'batch_size': 200, 'dropout_1': 0.0, 'dropout_2': 0.0, 'epochs': 4, 'kernel_size': [5, 5], 'optimizer': 'Adamax', 'pool_size': [2, 2]}\n",
      "Best: 0.959450 using {'activation_1': 'tanh', 'activation_2': 'tanh', 'activation_3': 'tanh', 'activation_4': 'tanh', 'batch_size': 200, 'dropout_1': 0.0, 'dropout_2': 0.0, 'epochs': 4, 'kernel_size': [5, 5], 'optimizer': 'Adam', 'pool_size': [2, 2]}\n",
      "10000/10000 [==============================] - 4s 370us/step\n",
      "Test Accuracy 0.9735000014305115\n"
     ]
    }
   ],
   "source": [
    "#optimizer grid search over SGD, RMSprop, Adagrad, Adadelta, Adam, Nadam, Adamax\n",
    "seed = 42\n",
    "np.random.seed(seed)\n",
    "\n",
    "param_grid = {'epochs': [4],\n",
    "              'batch_size': [200],\n",
    "              'optimizer': ['SGD', 'RMSprop', 'Adagrad', 'Adadelta', 'Adam', 'Nadam', 'Adamax'],\n",
    "              'activation_1' : ['tanh'],\n",
    "              'activation_2' : ['tanh'],\n",
    "              'activation_3' : ['tanh'],\n",
    "              'activation_4' : ['tanh'],\n",
    "              'kernel_size' : [[5,5]],\n",
    "              'pool_size' : [[2,2]],\n",
    "              'dropout_1' : [0.0],\n",
    "              'dropout_2' : [0.0]\n",
    "             }\n",
    "\n",
    "my_classifier = KerasClassifier(create_model)\n",
    "\n",
    "grid = GridSearchCV(my_classifier, param_grid, cv=2, n_jobs=1, verbose=1)\n",
    "\n",
    "grid_result = grid.fit(x_train, y_train)\n",
    "# summarize results\n",
    "print(\"Best: %f using %s\" % (grid_result.best_score_, grid_result.best_params_))\n",
    "means = grid_result.cv_results_['mean_test_score']\n",
    "stds = grid_result.cv_results_['std_test_score']\n",
    "params = grid_result.cv_results_['params']\n",
    "for mean, stdev, param in zip(means, stds, params):\n",
    "    print(\"%f (%f) with: %r\" % (mean, stdev, param))\n",
    "    \n",
    "# Print Results\n",
    "print(\"Best: %f using %s\" % (grid_result.best_score_, grid_result.best_params_))\n",
    "\n",
    "# Print Test Accuracy\n",
    "print(\"Test Accuracy\", grid_result.score(x_test, y_test))\n"
   ]
  },
  {
   "cell_type": "markdown",
   "metadata": {},
   "source": [
    "# BEST OPTIMIZER: ADAM\n",
    "    Test accuracy 97.35%"
   ]
  },
  {
   "cell_type": "code",
   "execution_count": 43,
   "metadata": {
    "scrolled": true
   },
   "outputs": [
    {
     "name": "stdout",
     "output_type": "stream",
     "text": [
      "Fitting 2 folds for each of 3 candidates, totalling 6 fits\n"
     ]
    },
    {
     "name": "stderr",
     "output_type": "stream",
     "text": [
      "[Parallel(n_jobs=1)]: Using backend SequentialBackend with 1 concurrent workers.\n"
     ]
    },
    {
     "name": "stdout",
     "output_type": "stream",
     "text": [
      "Epoch 1/4\n",
      "30000/30000 [==============================] - 23s 757us/step - loss: 0.3789 - acc: 0.8946\n",
      "Epoch 2/4\n",
      "30000/30000 [==============================] - 18s 611us/step - loss: 0.0932 - acc: 0.9756\n",
      "Epoch 3/4\n",
      "30000/30000 [==============================] - 18s 613us/step - loss: 0.0569 - acc: 0.9850\n",
      "Epoch 4/4\n",
      "30000/30000 [==============================] - 19s 620us/step - loss: 0.0376 - acc: 0.9902\n",
      "30000/30000 [==============================] - 11s 351us/step\n",
      "30000/30000 [==============================] - 9s 286us/step\n",
      "Epoch 1/4\n",
      "30000/30000 [==============================] - 23s 771us/step - loss: 0.3738 - acc: 0.8952\n",
      "Epoch 2/4\n",
      "30000/30000 [==============================] - 18s 609us/step - loss: 0.0826 - acc: 0.9789\n",
      "Epoch 3/4\n",
      "30000/30000 [==============================] - 18s 617us/step - loss: 0.0487 - acc: 0.9878\n",
      "Epoch 4/4\n",
      "30000/30000 [==============================] - 18s 605us/step - loss: 0.0325 - acc: 0.9922\n",
      "30000/30000 [==============================] - 11s 353us/step\n",
      "30000/30000 [==============================] - 9s 286us/step\n",
      "Epoch 1/4\n",
      "30000/30000 [==============================] - 23s 778us/step - loss: 0.3417 - acc: 0.8903\n",
      "Epoch 2/4\n",
      "30000/30000 [==============================] - 18s 612us/step - loss: 0.0697 - acc: 0.9785\n",
      "Epoch 3/4\n",
      "30000/30000 [==============================] - 18s 610us/step - loss: 0.0448 - acc: 0.9854\n",
      "Epoch 4/4\n",
      "30000/30000 [==============================] - 18s 610us/step - loss: 0.0357 - acc: 0.9883\n",
      "30000/30000 [==============================] - 11s 358us/step\n",
      "30000/30000 [==============================] - 9s 290us/step\n",
      "Epoch 1/4\n",
      "30000/30000 [==============================] - 23s 764us/step - loss: 0.3428 - acc: 0.8950\n",
      "Epoch 2/4\n",
      "30000/30000 [==============================] - 18s 601us/step - loss: 0.0709 - acc: 0.9780\n",
      "Epoch 3/4\n",
      "30000/30000 [==============================] - 19s 618us/step - loss: 0.0471 - acc: 0.9857\n",
      "Epoch 4/4\n",
      "30000/30000 [==============================] - 18s 604us/step - loss: 0.0329 - acc: 0.9900\n",
      "30000/30000 [==============================] - 11s 360us/step\n",
      "30000/30000 [==============================] - 9s 286us/step\n",
      "Epoch 1/4\n",
      "30000/30000 [==============================] - 22s 742us/step - loss: 0.2936 - acc: 0.9109\n",
      "Epoch 2/4\n",
      "30000/30000 [==============================] - 17s 581us/step - loss: 0.0731 - acc: 0.9778\n",
      "Epoch 3/4\n",
      "30000/30000 [==============================] - 17s 580us/step - loss: 0.0433 - acc: 0.9867\n",
      "Epoch 4/4\n",
      "30000/30000 [==============================] - 17s 581us/step - loss: 0.0329 - acc: 0.9904\n",
      "30000/30000 [==============================] - 10s 343us/step\n",
      "30000/30000 [==============================] - 8s 279us/step\n",
      "Epoch 1/4\n",
      "30000/30000 [==============================] - 22s 739us/step - loss: 0.2940 - acc: 0.9108\n",
      "Epoch 2/4\n",
      "30000/30000 [==============================] - 17s 579us/step - loss: 0.0653 - acc: 0.9809\n",
      "Epoch 3/4\n",
      "30000/30000 [==============================] - 17s 580us/step - loss: 0.0399 - acc: 0.9878\n",
      "Epoch 4/4\n",
      "30000/30000 [==============================] - 17s 581us/step - loss: 0.0263 - acc: 0.9925\n",
      "30000/30000 [==============================] - 10s 345us/step\n",
      "30000/30000 [==============================] - 8s 277us/step\n"
     ]
    },
    {
     "name": "stderr",
     "output_type": "stream",
     "text": [
      "[Parallel(n_jobs=1)]: Done   6 out of   6 | elapsed:  9.6min finished\n"
     ]
    },
    {
     "name": "stdout",
     "output_type": "stream",
     "text": [
      "Epoch 1/4\n",
      "60000/60000 [==============================] - 40s 663us/step - loss: 0.2090 - acc: 0.9353\n",
      "Epoch 2/4\n",
      "60000/60000 [==============================] - 36s 597us/step - loss: 0.0504 - acc: 0.9843\n",
      "Epoch 3/4\n",
      "60000/60000 [==============================] - 40s 661us/step - loss: 0.0327 - acc: 0.9898\n",
      "Epoch 4/4\n",
      "60000/60000 [==============================] - 37s 610us/step - loss: 0.0261 - acc: 0.9917\n",
      "Best: 0.985783 using {'activation_1': 'relu', 'activation_2': 'relu', 'activation_3': 'relu', 'activation_4': 'relu', 'batch_size': 200, 'dropout_1': 0.0, 'dropout_2': 0.0, 'epochs': 4, 'kernel_size': [5, 5], 'optimizer': 'Adam', 'pool_size': [2, 2]}\n",
      "0.985033 (0.001033) with: {'activation_1': 'relu', 'activation_2': 'relu', 'activation_3': 'relu', 'activation_4': 'sigmoid', 'batch_size': 200, 'dropout_1': 0.0, 'dropout_2': 0.0, 'epochs': 4, 'kernel_size': [5, 5], 'optimizer': 'Adam', 'pool_size': [2, 2]}\n",
      "0.985783 (0.001250) with: {'activation_1': 'relu', 'activation_2': 'relu', 'activation_3': 'relu', 'activation_4': 'relu', 'batch_size': 200, 'dropout_1': 0.0, 'dropout_2': 0.0, 'epochs': 4, 'kernel_size': [5, 5], 'optimizer': 'Adam', 'pool_size': [2, 2]}\n",
      "0.983467 (0.002200) with: {'activation_1': 'relu', 'activation_2': 'relu', 'activation_3': 'relu', 'activation_4': 'tanh', 'batch_size': 200, 'dropout_1': 0.0, 'dropout_2': 0.0, 'epochs': 4, 'kernel_size': [5, 5], 'optimizer': 'Adam', 'pool_size': [2, 2]}\n",
      "Best: 0.985783 using {'activation_1': 'relu', 'activation_2': 'relu', 'activation_3': 'relu', 'activation_4': 'relu', 'batch_size': 200, 'dropout_1': 0.0, 'dropout_2': 0.0, 'epochs': 4, 'kernel_size': [5, 5], 'optimizer': 'Adam', 'pool_size': [2, 2]}\n",
      "10000/10000 [==============================] - 5s 474us/step\n",
      "Test Accuracy 0.9889000070095062\n"
     ]
    }
   ],
   "source": [
    "#activations grid search over 4 activations using relu, sigmoid, and tanh\n",
    "#These are run seperately, 1 by 1. This is again due to the many permutations of 3x3x3x3x2 = 162\n",
    "#PS: I used this cell several times, so even though the output shows only one activation, all have been tested. \n",
    "param_grid = {'epochs': [4],\n",
    "              'batch_size': [200],\n",
    "              'optimizer': ['Adam'],\n",
    "              'activation_1' : ['relu'],\n",
    "              'activation_2' : ['relu'],\n",
    "              'activation_3' : ['relu'],\n",
    "              'activation_4' : ['sigmoid', 'relu', 'tanh'],\n",
    "              'kernel_size' : [[5,5]],\n",
    "              'pool_size' : [[2,2]],\n",
    "              'dropout_1' : [0.0],\n",
    "              'dropout_2' : [0.0]\n",
    "             }\n",
    "\n",
    "my_classifier = KerasClassifier(create_model)\n",
    "\n",
    "grid = GridSearchCV(my_classifier, param_grid, cv=2, n_jobs=1, verbose=1)\n",
    "\n",
    "grid_result = grid.fit(x_train, y_train)\n",
    "# summarize results\n",
    "print(\"Best: %f using %s\" % (grid_result.best_score_, grid_result.best_params_))\n",
    "means = grid_result.cv_results_['mean_test_score']\n",
    "stds = grid_result.cv_results_['std_test_score']\n",
    "params = grid_result.cv_results_['params']\n",
    "for mean, stdev, param in zip(means, stds, params):\n",
    "    print(\"%f (%f) with: %r\" % (mean, stdev, param))\n",
    "    \n",
    "# Print Results\n",
    "print(\"Best: %f using %s\" % (grid_result.best_score_, grid_result.best_params_))\n",
    "\n",
    "# Print Test Accuracy\n",
    "print(\"Test Accuracy\", grid_result.score(x_test, y_test))"
   ]
  },
  {
   "cell_type": "markdown",
   "metadata": {},
   "source": [
    "# BEST ACTIVATIONS:\n",
    "    Activation 1: relu, Accuracy 98.15%\n",
    "    Activation 2: relu, Accuracy 98.83%\n",
    "    Activation 3: relu, Accuracy 99.14%\n",
    "    Activation 4: relu, Accuracy 98.69 %"
   ]
  },
  {
   "cell_type": "code",
   "execution_count": 44,
   "metadata": {
    "scrolled": true
   },
   "outputs": [
    {
     "name": "stdout",
     "output_type": "stream",
     "text": [
      "Fitting 2 folds for each of 3 candidates, totalling 6 fits\n"
     ]
    },
    {
     "name": "stderr",
     "output_type": "stream",
     "text": [
      "[Parallel(n_jobs=1)]: Using backend SequentialBackend with 1 concurrent workers.\n"
     ]
    },
    {
     "name": "stdout",
     "output_type": "stream",
     "text": [
      "Epoch 1/4\n",
      "30000/30000 [==============================] - 20s 680us/step - loss: 0.2659 - acc: 0.9213\n",
      "Epoch 2/4\n",
      "30000/30000 [==============================] - 15s 508us/step - loss: 0.0673 - acc: 0.9783\n",
      "Epoch 3/4\n",
      "30000/30000 [==============================] - 15s 508us/step - loss: 0.0412 - acc: 0.9878\n",
      "Epoch 4/4\n",
      "30000/30000 [==============================] - 15s 508us/step - loss: 0.0300 - acc: 0.9910\n",
      "30000/30000 [==============================] - 8s 277us/step\n",
      "30000/30000 [==============================] - 6s 209us/step\n",
      "Epoch 1/4\n",
      "30000/30000 [==============================] - 20s 680us/step - loss: 0.2739 - acc: 0.9141\n",
      "Epoch 2/4\n",
      "30000/30000 [==============================] - 15s 512us/step - loss: 0.0612 - acc: 0.9812\n",
      "Epoch 3/4\n",
      "30000/30000 [==============================] - 15s 510us/step - loss: 0.0379 - acc: 0.9885\n",
      "Epoch 4/4\n",
      "30000/30000 [==============================] - 15s 511us/step - loss: 0.0290 - acc: 0.9910\n",
      "30000/30000 [==============================] - 8s 278us/step\n",
      "30000/30000 [==============================] - 6s 210us/step\n",
      "Epoch 1/4\n",
      "30000/30000 [==============================] - 23s 753us/step - loss: 0.2942 - acc: 0.9100\n",
      "Epoch 2/4\n",
      "30000/30000 [==============================] - 18s 586us/step - loss: 0.0655 - acc: 0.9796\n",
      "Epoch 3/4\n",
      "30000/30000 [==============================] - 17s 581us/step - loss: 0.0445 - acc: 0.9855\n",
      "Epoch 4/4\n",
      "30000/30000 [==============================] - 17s 582us/step - loss: 0.0320 - acc: 0.9904\n",
      "30000/30000 [==============================] - 10s 346us/step\n",
      "30000/30000 [==============================] - 8s 280us/step\n",
      "Epoch 1/4\n",
      "30000/30000 [==============================] - 23s 779us/step - loss: 0.3179 - acc: 0.9001\n",
      "Epoch 2/4\n",
      "30000/30000 [==============================] - 18s 595us/step - loss: 0.0656 - acc: 0.9789\n",
      "Epoch 3/4\n",
      "30000/30000 [==============================] - 18s 601us/step - loss: 0.0426 - acc: 0.9861\n",
      "Epoch 4/4\n",
      "30000/30000 [==============================] - 18s 584us/step - loss: 0.0315 - acc: 0.9897\n",
      "30000/30000 [==============================] - 10s 346us/step\n",
      "30000/30000 [==============================] - 8s 281us/step\n",
      "Epoch 1/4\n",
      "30000/30000 [==============================] - 26s 883us/step - loss: 0.3752 - acc: 0.8871\n",
      "Epoch 2/4\n",
      "30000/30000 [==============================] - 21s 702us/step - loss: 0.0767 - acc: 0.9767\n",
      "Epoch 3/4\n",
      "30000/30000 [==============================] - 20s 673us/step - loss: 0.0480 - acc: 0.9844\n",
      "Epoch 4/4\n",
      "30000/30000 [==============================] - 20s 676us/step - loss: 0.0347 - acc: 0.9886\n",
      "30000/30000 [==============================] - 12s 399us/step\n",
      "30000/30000 [==============================] - 10s 329us/step\n",
      "Epoch 1/4\n",
      "30000/30000 [==============================] - 25s 850us/step - loss: 0.3596 - acc: 0.8936\n",
      "Epoch 2/4\n",
      "30000/30000 [==============================] - 20s 673us/step - loss: 0.0707 - acc: 0.9783\n",
      "Epoch 3/4\n",
      "30000/30000 [==============================] - 20s 670us/step - loss: 0.0463 - acc: 0.9859\n",
      "Epoch 4/4\n",
      "30000/30000 [==============================] - 20s 671us/step - loss: 0.0334 - acc: 0.9895\n",
      "30000/30000 [==============================] - 12s 412us/step\n",
      "30000/30000 [==============================] - 10s 330us/step\n"
     ]
    },
    {
     "name": "stderr",
     "output_type": "stream",
     "text": [
      "[Parallel(n_jobs=1)]: Done   6 out of   6 | elapsed:  9.5min finished\n"
     ]
    },
    {
     "name": "stdout",
     "output_type": "stream",
     "text": [
      "Epoch 1/4\n",
      "60000/60000 [==============================] - 45s 758us/step - loss: 0.2403 - acc: 0.9260\n",
      "Epoch 2/4\n",
      "60000/60000 [==============================] - 41s 686us/step - loss: 0.0529 - acc: 0.9835\n",
      "Epoch 3/4\n",
      "60000/60000 [==============================] - 41s 676us/step - loss: 0.0364 - acc: 0.9888\n",
      "Epoch 4/4\n",
      "60000/60000 [==============================] - 40s 670us/step - loss: 0.0283 - acc: 0.9913\n",
      "Best: 0.985850 using {'activation_1': 'relu', 'activation_2': 'relu', 'activation_3': 'relu', 'activation_4': 'relu', 'batch_size': 200, 'dropout_1': 0.0, 'dropout_2': 0.0, 'epochs': 4, 'kernel_size': [6, 6], 'optimizer': 'Adam', 'pool_size': [2, 2]}\n",
      "0.983950 (0.003317) with: {'activation_1': 'relu', 'activation_2': 'relu', 'activation_3': 'relu', 'activation_4': 'relu', 'batch_size': 200, 'dropout_1': 0.0, 'dropout_2': 0.0, 'epochs': 4, 'kernel_size': [4, 4], 'optimizer': 'Adam', 'pool_size': [2, 2]}\n",
      "0.984667 (0.000567) with: {'activation_1': 'relu', 'activation_2': 'relu', 'activation_3': 'relu', 'activation_4': 'relu', 'batch_size': 200, 'dropout_1': 0.0, 'dropout_2': 0.0, 'epochs': 4, 'kernel_size': [5, 5], 'optimizer': 'Adam', 'pool_size': [2, 2]}\n",
      "0.985850 (0.000083) with: {'activation_1': 'relu', 'activation_2': 'relu', 'activation_3': 'relu', 'activation_4': 'relu', 'batch_size': 200, 'dropout_1': 0.0, 'dropout_2': 0.0, 'epochs': 4, 'kernel_size': [6, 6], 'optimizer': 'Adam', 'pool_size': [2, 2]}\n",
      "Best: 0.985850 using {'activation_1': 'relu', 'activation_2': 'relu', 'activation_3': 'relu', 'activation_4': 'relu', 'batch_size': 200, 'dropout_1': 0.0, 'dropout_2': 0.0, 'epochs': 4, 'kernel_size': [6, 6], 'optimizer': 'Adam', 'pool_size': [2, 2]}\n",
      "10000/10000 [==============================] - 5s 545us/step\n",
      "Test Accuracy 0.9896000075340271\n"
     ]
    }
   ],
   "source": [
    "#kernel size over (4,4), (5,5), (6,6)\n",
    "seed = 42\n",
    "np.random.seed(seed)\n",
    "\n",
    "param_grid = {'epochs': [4],\n",
    "              'batch_size': [200],\n",
    "              'optimizer': ['Adam'],\n",
    "              'activation_1' : ['relu'],\n",
    "              'activation_2' : ['relu'],\n",
    "              'activation_3' : ['relu'],\n",
    "              'activation_4' : ['relu'],\n",
    "              'kernel_size' : [[4,4], [5,5], [6,6]],\n",
    "              'pool_size' : [[2,2]],\n",
    "              'dropout_1' : [0.0],\n",
    "              'dropout_2' : [0.0]\n",
    "             }\n",
    "\n",
    "my_classifier = KerasClassifier(create_model)\n",
    "\n",
    "grid = GridSearchCV(my_classifier, param_grid, cv=2, n_jobs=1, verbose=1)\n",
    "\n",
    "grid_result = grid.fit(x_train, y_train)\n",
    "# summarize results\n",
    "print(\"Best: %f using %s\" % (grid_result.best_score_, grid_result.best_params_))\n",
    "means = grid_result.cv_results_['mean_test_score']\n",
    "stds = grid_result.cv_results_['std_test_score']\n",
    "params = grid_result.cv_results_['params']\n",
    "for mean, stdev, param in zip(means, stds, params):\n",
    "    print(\"%f (%f) with: %r\" % (mean, stdev, param))\n",
    "    \n",
    "# Print Results\n",
    "print(\"Best: %f using %s\" % (grid_result.best_score_, grid_result.best_params_))\n",
    "\n",
    "# Print Test Accuracy\n",
    "print(\"Test Accuracy\", grid_result.score(x_test, y_test))\n"
   ]
  },
  {
   "cell_type": "markdown",
   "metadata": {},
   "source": [
    "# BEST KERNEL SIZE:\n",
    "    (6,6)"
   ]
  },
  {
   "cell_type": "code",
   "execution_count": 45,
   "metadata": {
    "scrolled": false
   },
   "outputs": [
    {
     "name": "stdout",
     "output_type": "stream",
     "text": [
      "Fitting 2 folds for each of 3 candidates, totalling 6 fits\n"
     ]
    },
    {
     "name": "stderr",
     "output_type": "stream",
     "text": [
      "[Parallel(n_jobs=1)]: Using backend SequentialBackend with 1 concurrent workers.\n"
     ]
    },
    {
     "name": "stdout",
     "output_type": "stream",
     "text": [
      "Epoch 1/4\n",
      "30000/30000 [==============================] - 31s 1ms/step - loss: 0.2322 - acc: 0.9278\n",
      "Epoch 2/4\n",
      "30000/30000 [==============================] - 24s 806us/step - loss: 0.0544 - acc: 0.9828\n",
      "Epoch 3/4\n",
      "30000/30000 [==============================] - 24s 806us/step - loss: 0.0334 - acc: 0.9891\n",
      "Epoch 4/4\n",
      "30000/30000 [==============================] - 24s 815us/step - loss: 0.0276 - acc: 0.9914\n",
      "30000/30000 [==============================] - 16s 528us/step\n",
      "30000/30000 [==============================] - 12s 404us/step\n",
      "Epoch 1/4\n",
      "30000/30000 [==============================] - 31s 1ms/step - loss: 0.2418 - acc: 0.9254\n",
      "Epoch 2/4\n",
      "30000/30000 [==============================] - 25s 845us/step - loss: 0.0506 - acc: 0.9844\n",
      "Epoch 3/4\n",
      "30000/30000 [==============================] - 25s 835us/step - loss: 0.0311 - acc: 0.9900\n",
      "Epoch 4/4\n",
      "30000/30000 [==============================] - 26s 863us/step - loss: 0.0277 - acc: 0.9914\n",
      "30000/30000 [==============================] - 14s 462us/step\n",
      "30000/30000 [==============================] - 11s 380us/step\n",
      "Epoch 1/4\n",
      "30000/30000 [==============================] - 30s 984us/step - loss: 0.2447 - acc: 0.9246\n",
      "Epoch 2/4\n",
      "30000/30000 [==============================] - 24s 794us/step - loss: 0.0628 - acc: 0.9801\n",
      "Epoch 3/4\n",
      "30000/30000 [==============================] - 24s 788us/step - loss: 0.0434 - acc: 0.9860\n",
      "Epoch 4/4\n",
      "30000/30000 [==============================] - 24s 798us/step - loss: 0.0319 - acc: 0.9895\n",
      "30000/30000 [==============================] - 13s 437us/step\n",
      "30000/30000 [==============================] - 11s 354us/step\n",
      "Epoch 1/4\n",
      "30000/30000 [==============================] - 30s 999us/step - loss: 0.2656 - acc: 0.9148\n",
      "Epoch 2/4\n",
      "30000/30000 [==============================] - 24s 794us/step - loss: 0.0624 - acc: 0.9802\n",
      "Epoch 3/4\n",
      "30000/30000 [==============================] - 24s 795us/step - loss: 0.0381 - acc: 0.9880\n",
      "Epoch 4/4\n",
      "30000/30000 [==============================] - 24s 791us/step - loss: 0.0292 - acc: 0.9903\n",
      "30000/30000 [==============================] - 13s 438us/step\n",
      "30000/30000 [==============================] - 11s 362us/step\n",
      "Epoch 1/4\n",
      "30000/30000 [==============================] - 28s 934us/step - loss: 0.3068 - acc: 0.9012\n",
      "Epoch 2/4\n",
      "30000/30000 [==============================] - 22s 738us/step - loss: 0.0759 - acc: 0.9764\n",
      "Epoch 3/4\n",
      "30000/30000 [==============================] - 22s 737us/step - loss: 0.0506 - acc: 0.9840\n",
      "Epoch 4/4\n",
      "30000/30000 [==============================] - 22s 735us/step - loss: 0.0389 - acc: 0.9875 1s - loss: 0.0391 -\n",
      "30000/30000 [==============================] - 13s 421us/step\n",
      "30000/30000 [==============================] - 10s 340us/step\n",
      "Epoch 1/4\n",
      "30000/30000 [==============================] - 28s 942us/step - loss: 0.2923 - acc: 0.909816s - loss: 0.4596 - acc:\n",
      "Epoch 2/4\n",
      "30000/30000 [==============================] - 23s 768us/step - loss: 0.0697 - acc: 0.97882s -\n",
      "Epoch 3/4\n",
      "30000/30000 [==============================] - 22s 738us/step - loss: 0.0463 - acc: 0.9856\n",
      "Epoch 4/4\n",
      "30000/30000 [==============================] - 22s 748us/step - loss: 0.0349 - acc: 0.9891\n",
      "30000/30000 [==============================] - 13s 422us/step\n",
      "30000/30000 [==============================] - 10s 344us/step\n"
     ]
    },
    {
     "name": "stderr",
     "output_type": "stream",
     "text": [
      "[Parallel(n_jobs=1)]: Done   6 out of   6 | elapsed: 12.6min finished\n"
     ]
    },
    {
     "name": "stdout",
     "output_type": "stream",
     "text": [
      "Epoch 1/4\n",
      "60000/60000 [==============================] - 54s 904us/step - loss: 0.1631 - acc: 0.9480\n",
      "Epoch 2/4\n",
      "60000/60000 [==============================] - 45s 751us/step - loss: 0.0419 - acc: 0.9873\n",
      "Epoch 3/4\n",
      "60000/60000 [==============================] - 45s 743us/step - loss: 0.0286 - acc: 0.99134s - loss: 0.0287 - ac \n",
      "Epoch 4/4\n",
      "60000/60000 [==============================] - 45s 742us/step - loss: 0.0218 - acc: 0.9929\n",
      "Best: 0.986117 using {'activation_1': 'relu', 'activation_2': 'relu', 'activation_3': 'relu', 'activation_4': 'relu', 'batch_size': 120, 'dropout_1': 0.0, 'dropout_2': 0.0, 'epochs': 4, 'kernel_size': [6, 6], 'optimizer': 'Adam', 'pool_size': [2, 2]}\n",
      "0.983350 (0.001050) with: {'activation_1': 'relu', 'activation_2': 'relu', 'activation_3': 'relu', 'activation_4': 'relu', 'batch_size': 120, 'dropout_1': 0.0, 'dropout_2': 0.0, 'epochs': 4, 'kernel_size': [6, 6], 'optimizer': 'Adam', 'pool_size': [1, 1]}\n",
      "0.986117 (0.000617) with: {'activation_1': 'relu', 'activation_2': 'relu', 'activation_3': 'relu', 'activation_4': 'relu', 'batch_size': 120, 'dropout_1': 0.0, 'dropout_2': 0.0, 'epochs': 4, 'kernel_size': [6, 6], 'optimizer': 'Adam', 'pool_size': [2, 2]}\n",
      "0.985467 (0.000933) with: {'activation_1': 'relu', 'activation_2': 'relu', 'activation_3': 'relu', 'activation_4': 'relu', 'batch_size': 120, 'dropout_1': 0.0, 'dropout_2': 0.0, 'epochs': 4, 'kernel_size': [6, 6], 'optimizer': 'Adam', 'pool_size': [3, 3]}\n",
      "Best: 0.986117 using {'activation_1': 'relu', 'activation_2': 'relu', 'activation_3': 'relu', 'activation_4': 'relu', 'batch_size': 120, 'dropout_1': 0.0, 'dropout_2': 0.0, 'epochs': 4, 'kernel_size': [6, 6], 'optimizer': 'Adam', 'pool_size': [2, 2]}\n",
      "10000/10000 [==============================] - 6s 581us/step\n",
      "Test Accuracy 0.9892000067234039\n"
     ]
    }
   ],
   "source": [
    "#pool size grid search over (1,1), (2,2), (3,3)\n",
    "seed = 42\n",
    "np.random.seed(seed)\n",
    "\n",
    "param_grid = {'epochs': [4],\n",
    "              'batch_size': [120],\n",
    "              'optimizer': ['Adam'],\n",
    "              'activation_1' : ['relu'],\n",
    "              'activation_2' : ['relu'],\n",
    "              'activation_3' : ['relu'],\n",
    "              'activation_4' : ['relu'],\n",
    "              'kernel_size' : [[6,6]],\n",
    "              'pool_size' : [[1,1], [2,2], [3,3]],\n",
    "              'dropout_1' : [0.0],\n",
    "              'dropout_2' : [0.0]\n",
    "             }\n",
    "\n",
    "my_classifier = KerasClassifier(create_model)\n",
    "\n",
    "grid = GridSearchCV(my_classifier, param_grid, cv=2, n_jobs=1, verbose=1)\n",
    "\n",
    "grid_result = grid.fit(x_train, y_train)\n",
    "# summarize results\n",
    "print(\"Best: %f using %s\" % (grid_result.best_score_, grid_result.best_params_))\n",
    "means = grid_result.cv_results_['mean_test_score']\n",
    "stds = grid_result.cv_results_['std_test_score']\n",
    "params = grid_result.cv_results_['params']\n",
    "for mean, stdev, param in zip(means, stds, params):\n",
    "    print(\"%f (%f) with: %r\" % (mean, stdev, param))\n",
    "    \n",
    "# Print Results\n",
    "print(\"Best: %f using %s\" % (grid_result.best_score_, grid_result.best_params_))\n",
    "\n",
    "# Print Test Accuracy\n",
    "print(\"Test Accuracy\", grid_result.score(x_test, y_test))\n"
   ]
  },
  {
   "cell_type": "markdown",
   "metadata": {},
   "source": [
    "# BEST POOL SIZE: (2,2)\n",
    "    "
   ]
  },
  {
   "cell_type": "code",
   "execution_count": 47,
   "metadata": {
    "scrolled": false
   },
   "outputs": [
    {
     "name": "stdout",
     "output_type": "stream",
     "text": [
      "Fitting 2 folds for each of 16 candidates, totalling 32 fits\n"
     ]
    },
    {
     "name": "stderr",
     "output_type": "stream",
     "text": [
      "[Parallel(n_jobs=1)]: Using backend SequentialBackend with 1 concurrent workers.\n"
     ]
    },
    {
     "name": "stdout",
     "output_type": "stream",
     "text": [
      "Epoch 1/4\n",
      "30000/30000 [==============================] - 29s 955us/step - loss: 0.3642 - acc: 0.8924\n",
      "Epoch 2/4\n",
      "30000/30000 [==============================] - 21s 714us/step - loss: 0.0856 - acc: 0.9731\n",
      "Epoch 3/4\n",
      "30000/30000 [==============================] - 21s 713us/step - loss: 0.0526 - acc: 0.9840\n",
      "Epoch 4/4\n",
      "30000/30000 [==============================] - 21s 712us/step - loss: 0.0398 - acc: 0.9875\n",
      "30000/30000 [==============================] - 13s 429us/step\n",
      "30000/30000 [==============================] - 10s 344us/step\n",
      "Epoch 1/4\n",
      "30000/30000 [==============================] - 28s 924us/step - loss: 0.3650 - acc: 0.8870\n",
      "Epoch 2/4\n",
      "30000/30000 [==============================] - 21s 711us/step - loss: 0.0717 - acc: 0.9778\n",
      "Epoch 3/4\n",
      "30000/30000 [==============================] - 21s 714us/step - loss: 0.0421 - acc: 0.9874\n",
      "Epoch 4/4\n",
      "30000/30000 [==============================] - 21s 712us/step - loss: 0.0330 - acc: 0.9893\n",
      "30000/30000 [==============================] - 13s 430us/step\n",
      "30000/30000 [==============================] - 10s 347us/step\n",
      "Epoch 1/4\n",
      "30000/30000 [==============================] - 28s 928us/step - loss: 0.3625 - acc: 0.8887\n",
      "Epoch 2/4\n",
      "30000/30000 [==============================] - 22s 717us/step - loss: 0.0862 - acc: 0.9733\n",
      "Epoch 3/4\n",
      "30000/30000 [==============================] - 21s 711us/step - loss: 0.0607 - acc: 0.9813\n",
      "Epoch 4/4\n",
      "30000/30000 [==============================] - 22s 722us/step - loss: 0.0449 - acc: 0.9862\n",
      "30000/30000 [==============================] - 13s 435us/step\n",
      "30000/30000 [==============================] - 10s 347us/step\n",
      "Epoch 1/4\n",
      "30000/30000 [==============================] - 28s 934us/step - loss: 0.4239 - acc: 0.8664\n",
      "Epoch 2/4\n",
      "30000/30000 [==============================] - 21s 716us/step - loss: 0.0967 - acc: 0.9707\n",
      "Epoch 3/4\n",
      "30000/30000 [==============================] - 21s 715us/step - loss: 0.0613 - acc: 0.9819\n",
      "Epoch 4/4\n",
      "30000/30000 [==============================] - 22s 720us/step - loss: 0.0443 - acc: 0.9867\n",
      "30000/30000 [==============================] - 13s 435us/step\n",
      "30000/30000 [==============================] - 10s 346us/step\n",
      "Epoch 1/4\n",
      "30000/30000 [==============================] - 28s 934us/step - loss: 0.4254 - acc: 0.8675\n",
      "Epoch 2/4\n",
      "30000/30000 [==============================] - 21s 713us/step - loss: 0.1162 - acc: 0.9674\n",
      "Epoch 3/4\n",
      "30000/30000 [==============================] - 21s 716us/step - loss: 0.0725 - acc: 0.9794\n",
      "Epoch 4/4\n",
      "30000/30000 [==============================] - 22s 718us/step - loss: 0.0588 - acc: 0.9825\n",
      "30000/30000 [==============================] - 13s 436us/step\n",
      "30000/30000 [==============================] - 10s 347us/step\n",
      "Epoch 1/4\n",
      "30000/30000 [==============================] - 28s 940us/step - loss: 0.4090 - acc: 0.8753\n",
      "Epoch 2/4\n",
      "30000/30000 [==============================] - 22s 717us/step - loss: 0.1178 - acc: 0.9664\n",
      "Epoch 3/4\n",
      "30000/30000 [==============================] - 22s 722us/step - loss: 0.0749 - acc: 0.9783\n",
      "Epoch 4/4\n",
      "30000/30000 [==============================] - 22s 719us/step - loss: 0.0578 - acc: 0.9828\n",
      "30000/30000 [==============================] - 13s 439us/step\n",
      "30000/30000 [==============================] - 10s 349us/step\n",
      "Epoch 1/4\n",
      "30000/30000 [==============================] - 29s 961us/step - loss: 0.6490 - acc: 0.7867\n",
      "Epoch 2/4\n",
      "30000/30000 [==============================] - 21s 716us/step - loss: 0.2382 - acc: 0.9268\n",
      "Epoch 3/4\n",
      "30000/30000 [==============================] - 22s 722us/step - loss: 0.1725 - acc: 0.9460\n",
      "Epoch 4/4\n",
      "30000/30000 [==============================] - 22s 721us/step - loss: 0.1373 - acc: 0.9572\n",
      "30000/30000 [==============================] - 13s 439us/step\n",
      "30000/30000 [==============================] - 11s 350us/step\n",
      "Epoch 1/4\n",
      "30000/30000 [==============================] - 28s 949us/step - loss: 0.6255 - acc: 0.7973\n",
      "Epoch 2/4\n",
      "30000/30000 [==============================] - 21s 715us/step - loss: 0.2207 - acc: 0.9345\n",
      "Epoch 3/4\n",
      "30000/30000 [==============================] - 22s 719us/step - loss: 0.1555 - acc: 0.9530\n",
      "Epoch 4/4\n",
      "30000/30000 [==============================] - 21s 716us/step - loss: 0.1176 - acc: 0.9655\n",
      "30000/30000 [==============================] - 13s 440us/step\n",
      "30000/30000 [==============================] - 11s 351us/step\n",
      "Epoch 1/4\n",
      "30000/30000 [==============================] - 30s 983us/step - loss: 0.3439 - acc: 0.8943\n",
      "Epoch 2/4\n",
      "30000/30000 [==============================] - 22s 750us/step - loss: 0.0751 - acc: 0.9763\n",
      "Epoch 3/4\n",
      "30000/30000 [==============================] - 23s 754us/step - loss: 0.0517 - acc: 0.9836\n",
      "Epoch 4/4\n",
      "30000/30000 [==============================] - 23s 753us/step - loss: 0.0392 - acc: 0.9877\n",
      "30000/30000 [==============================] - 13s 445us/step\n",
      "30000/30000 [==============================] - 11s 353us/step\n",
      "Epoch 1/4\n",
      "30000/30000 [==============================] - 30s 987us/step - loss: 0.3629 - acc: 0.8825\n",
      "Epoch 2/4\n",
      "30000/30000 [==============================] - 23s 752us/step - loss: 0.0795 - acc: 0.9764\n",
      "Epoch 3/4\n",
      "30000/30000 [==============================] - 23s 758us/step - loss: 0.0489 - acc: 0.9847\n",
      "Epoch 4/4\n",
      "30000/30000 [==============================] - 23s 754us/step - loss: 0.0384 - acc: 0.9879\n",
      "30000/30000 [==============================] - 13s 444us/step\n",
      "30000/30000 [==============================] - 10s 350us/step\n",
      "Epoch 1/4\n",
      "30000/30000 [==============================] - 30s 994us/step - loss: 0.3675 - acc: 0.8865\n",
      "Epoch 2/4\n",
      "30000/30000 [==============================] - 24s 805us/step - loss: 0.0920 - acc: 0.9717\n",
      "Epoch 3/4\n",
      "30000/30000 [==============================] - 24s 786us/step - loss: 0.0627 - acc: 0.9812\n",
      "Epoch 4/4\n",
      "30000/30000 [==============================] - 23s 775us/step - loss: 0.0431 - acc: 0.9875\n",
      "30000/30000 [==============================] - 14s 467us/step\n",
      "30000/30000 [==============================] - 11s 359us/step\n",
      "Epoch 1/4\n",
      "30000/30000 [==============================] - 32s 1ms/step - loss: 0.3917 - acc: 0.8761\n",
      "Epoch 2/4\n",
      "30000/30000 [==============================] - 22s 726us/step - loss: 0.0909 - acc: 0.9723\n",
      "Epoch 3/4\n",
      "30000/30000 [==============================] - 21s 706us/step - loss: 0.0628 - acc: 0.9813\n",
      "Epoch 4/4\n",
      "30000/30000 [==============================] - 21s 708us/step - loss: 0.0468 - acc: 0.9859\n",
      "30000/30000 [==============================] - 13s 422us/step\n",
      "30000/30000 [==============================] - 10s 333us/step\n",
      "Epoch 1/4\n",
      "30000/30000 [==============================] - 28s 940us/step - loss: 0.4382 - acc: 0.8624\n",
      "Epoch 2/4\n",
      "30000/30000 [==============================] - 21s 708us/step - loss: 0.1216 - acc: 0.9639\n",
      "Epoch 3/4\n",
      "30000/30000 [==============================] - 22s 727us/step - loss: 0.0873 - acc: 0.9759\n",
      "Epoch 4/4\n",
      "30000/30000 [==============================] - 22s 747us/step - loss: 0.0654 - acc: 0.9810\n",
      "30000/30000 [==============================] - 13s 449us/step\n",
      "30000/30000 [==============================] - 10s 333us/step\n",
      "Epoch 1/4\n",
      "30000/30000 [==============================] - 33s 1ms/step - loss: 0.4716 - acc: 0.8538\n",
      "Epoch 2/4\n",
      "30000/30000 [==============================] - 25s 849us/step - loss: 0.1205 - acc: 0.9657\n",
      "Epoch 3/4\n",
      "30000/30000 [==============================] - 25s 830us/step - loss: 0.0805 - acc: 0.9777\n",
      "Epoch 4/4\n",
      "30000/30000 [==============================] - 26s 866us/step - loss: 0.0652 - acc: 0.9816\n",
      "30000/30000 [==============================] - 15s 486us/step\n",
      "30000/30000 [==============================] - 11s 378us/step\n",
      "Epoch 1/4\n",
      "30000/30000 [==============================] - 37s 1ms/step - loss: 0.5899 - acc: 0.8121\n",
      "Epoch 2/4\n",
      "30000/30000 [==============================] - 29s 965us/step - loss: 0.2061 - acc: 0.9388\n",
      "Epoch 3/4\n",
      "30000/30000 [==============================] - 29s 960us/step - loss: 0.1509 - acc: 0.95501s - loss: 0.1515 - acc:\n",
      "Epoch 4/4\n",
      "30000/30000 [==============================] - 29s 977us/step - loss: 0.1262 - acc: 0.9630\n",
      "30000/30000 [==============================] - 17s 566us/step\n",
      "30000/30000 [==============================] - 13s 443us/step\n",
      "Epoch 1/4\n",
      "30000/30000 [==============================] - 38s 1ms/step - loss: 0.6518 - acc: 0.7936\n",
      "Epoch 2/4\n",
      "30000/30000 [==============================] - 28s 948us/step - loss: 0.2292 - acc: 0.9322\n",
      "Epoch 3/4\n",
      "30000/30000 [==============================] - 29s 962us/step - loss: 0.1684 - acc: 0.9496\n",
      "Epoch 4/4\n",
      "30000/30000 [==============================] - 30s 986us/step - loss: 0.1364 - acc: 0.9592\n",
      "30000/30000 [==============================] - 17s 565us/step\n",
      "30000/30000 [==============================] - 13s 443us/step\n",
      "Epoch 1/4\n",
      "30000/30000 [==============================] - 38s 1ms/step - loss: 0.3155 - acc: 0.9015\n",
      "Epoch 2/4\n",
      "30000/30000 [==============================] - 29s 973us/step - loss: 0.0839 - acc: 0.9744\n",
      "Epoch 3/4\n",
      "30000/30000 [==============================] - 29s 973us/step - loss: 0.0570 - acc: 0.9824\n",
      "Epoch 4/4\n",
      "30000/30000 [==============================] - 29s 970us/step - loss: 0.0485 - acc: 0.9852\n",
      "30000/30000 [==============================] - ETA:  - 17s 569us/step\n",
      "30000/30000 [==============================] - 13s 446us/step\n",
      "Epoch 1/4\n",
      "30000/30000 [==============================] - 38s 1ms/step - loss: 0.3613 - acc: 0.8899\n",
      "Epoch 2/4\n",
      "30000/30000 [==============================] - 30s 985us/step - loss: 0.0898 - acc: 0.9718\n",
      "Epoch 3/4\n",
      "30000/30000 [==============================] - 29s 972us/step - loss: 0.0627 - acc: 0.9800\n",
      "Epoch 4/4\n",
      "30000/30000 [==============================] - 29s 970us/step - loss: 0.0453 - acc: 0.9859\n",
      "30000/30000 [==============================] - 17s 561us/step\n",
      "30000/30000 [==============================] - 13s 442us/step\n",
      "Epoch 1/4\n",
      "30000/30000 [==============================] - 38s 1ms/step - loss: 0.3784 - acc: 0.8795\n",
      "Epoch 2/4\n",
      "30000/30000 [==============================] - 29s 973us/step - loss: 0.0992 - acc: 0.9697\n",
      "Epoch 3/4\n",
      "30000/30000 [==============================] - 30s 991us/step - loss: 0.0704 - acc: 0.978110s - loss: \n",
      "Epoch 4/4\n",
      "30000/30000 [==============================] - 29s 957us/step - loss: 0.0560 - acc: 0.9828\n",
      "30000/30000 [==============================] - 17s 575us/step\n",
      "30000/30000 [==============================] - 13s 450us/step\n",
      "Epoch 1/4\n",
      "30000/30000 [==============================] - 39s 1ms/step - loss: 0.3736 - acc: 0.8815\n",
      "Epoch 2/4\n",
      "30000/30000 [==============================] - 29s 964us/step - loss: 0.0978 - acc: 0.9704\n",
      "Epoch 3/4\n",
      "30000/30000 [==============================] - 29s 956us/step - loss: 0.0687 - acc: 0.9800\n",
      "Epoch 4/4\n",
      "30000/30000 [==============================] - 29s 957us/step - loss: 0.0509 - acc: 0.9845\n",
      "30000/30000 [==============================] - 17s 565us/step\n",
      "30000/30000 [==============================] - 13s 437us/step\n",
      "Epoch 1/4\n",
      "30000/30000 [==============================] - 38s 1ms/step - loss: 0.4452 - acc: 0.8578: 7s\n",
      "Epoch 2/4\n",
      "30000/30000 [==============================] - 29s 962us/step - loss: 0.1243 - acc: 0.9652\n",
      "Epoch 3/4\n",
      "30000/30000 [==============================] - 29s 972us/step - loss: 0.0885 - acc: 0.9751\n",
      "Epoch 4/4\n",
      "30000/30000 [==============================] - 29s 956us/step - loss: 0.0705 - acc: 0.9794\n",
      "30000/30000 [==============================] - 17s 558us/step\n",
      "30000/30000 [==============================] - 13s 439us/step\n",
      "Epoch 1/4\n",
      "30000/30000 [==============================] - 38s 1ms/step - loss: 0.4497 - acc: 0.8588\n",
      "Epoch 2/4\n",
      "30000/30000 [==============================] - 28s 948us/step - loss: 0.1364 - acc: 0.9610\n",
      "Epoch 3/4\n",
      "30000/30000 [==============================] - 29s 953us/step - loss: 0.0954 - acc: 0.9728\n",
      "Epoch 4/4\n",
      "30000/30000 [==============================] - 28s 949us/step - loss: 0.0778 - acc: 0.9780\n",
      "30000/30000 [==============================] - 17s 560us/step\n",
      "30000/30000 [==============================] - 13s 446us/step\n",
      "Epoch 1/4\n",
      "30000/30000 [==============================] - 34s 1ms/step - loss: 0.6191 - acc: 0.8058\n",
      "Epoch 2/4\n",
      "30000/30000 [==============================] - 28s 941us/step - loss: 0.2238 - acc: 0.9345\n",
      "Epoch 3/4\n",
      "30000/30000 [==============================] - 29s 974us/step - loss: 0.1672 - acc: 0.9499\n",
      "Epoch 4/4\n",
      "30000/30000 [==============================] - 29s 980us/step - loss: 0.1415 - acc: 0.9578\n",
      "30000/30000 [==============================] - 18s 591us/step\n",
      "30000/30000 [==============================] - 13s 448us/step\n",
      "Epoch 1/4\n",
      "30000/30000 [==============================] - 39s 1ms/step - loss: 0.6664 - acc: 0.7834\n",
      "Epoch 2/4\n",
      "30000/30000 [==============================] - 29s 962us/step - loss: 0.2346 - acc: 0.9318\n",
      "Epoch 3/4\n",
      "30000/30000 [==============================] - 28s 933us/step - loss: 0.1700 - acc: 0.9496\n",
      "Epoch 4/4\n",
      "30000/30000 [==============================] - 27s 888us/step - loss: 0.1391 - acc: 0.9585\n",
      "30000/30000 [==============================] - 16s 543us/step\n",
      "30000/30000 [==============================] - 11s 361us/step\n",
      "Epoch 1/4\n",
      "30000/30000 [==============================] - 37s 1ms/step - loss: 0.3855 - acc: 0.8780\n",
      "Epoch 2/4\n",
      "30000/30000 [==============================] - 27s 909us/step - loss: 0.1170 - acc: 0.9638\n",
      "Epoch 3/4\n",
      "30000/30000 [==============================] - 29s 972us/step - loss: 0.0796 - acc: 0.9750\n",
      "Epoch 4/4\n",
      "30000/30000 [==============================] - 30s 991us/step - loss: 0.0638 - acc: 0.9800\n",
      "30000/30000 [==============================] - 18s 594us/step\n",
      "30000/30000 [==============================] - 14s 451us/step\n",
      "Epoch 1/4\n",
      "30000/30000 [==============================] - 39s 1ms/step - loss: 0.4190 - acc: 0.8704\n",
      "Epoch 2/4\n",
      "30000/30000 [==============================] - 29s 980us/step - loss: 0.1201 - acc: 0.9633\n",
      "Epoch 3/4\n",
      "30000/30000 [==============================] - 29s 967us/step - loss: 0.0856 - acc: 0.9727\n",
      "Epoch 4/4\n",
      "30000/30000 [==============================] - 30s 984us/step - loss: 0.0664 - acc: 0.9787\n",
      "30000/30000 [==============================] - 17s 583us/step\n",
      "30000/30000 [==============================] - 14s 461us/step\n",
      "Epoch 1/4\n",
      "30000/30000 [==============================] - 40s 1ms/step - loss: 0.4399 - acc: 0.8610\n",
      "Epoch 2/4\n",
      "30000/30000 [==============================] - 30s 997us/step - loss: 0.1320 - acc: 0.9605\n",
      "Epoch 3/4\n",
      "30000/30000 [==============================] - 29s 968us/step - loss: 0.0941 - acc: 0.9721\n",
      "Epoch 4/4\n",
      "30000/30000 [==============================] - 29s 975us/step - loss: 0.0768 - acc: 0.9771\n",
      "30000/30000 [==============================] - 18s 605us/step\n",
      "30000/30000 [==============================] - 14s 450us/step\n",
      "Epoch 1/4\n",
      "30000/30000 [==============================] - 41s 1ms/step - loss: 0.4262 - acc: 0.8643\n",
      "Epoch 2/4\n",
      "30000/30000 [==============================] - 30s 1ms/step - loss: 0.1229 - acc: 0.9623\n",
      "Epoch 3/4\n",
      "30000/30000 [==============================] - 31s 1ms/step - loss: 0.0861 - acc: 0.9746\n",
      "Epoch 4/4\n",
      "30000/30000 [==============================] - 30s 998us/step - loss: 0.0710 - acc: 0.9782\n",
      "30000/30000 [==============================] - 18s 603us/step\n",
      "30000/30000 [==============================] - 14s 469us/step\n",
      "Epoch 1/4\n",
      "30000/30000 [==============================] - 40s 1ms/step - loss: 0.4716 - acc: 0.8494\n",
      "Epoch 2/4\n",
      "30000/30000 [==============================] - 29s 977us/step - loss: 0.1527 - acc: 0.9558\n",
      "Epoch 3/4\n",
      "30000/30000 [==============================] - 30s 984us/step - loss: 0.1111 - acc: 0.9678\n",
      "Epoch 4/4\n",
      "30000/30000 [==============================] - 30s 985us/step - loss: 0.0924 - acc: 0.9731\n",
      "30000/30000 [==============================] - 18s 606us/step\n",
      "30000/30000 [==============================] - 14s 468us/step\n",
      "Epoch 1/4\n",
      "30000/30000 [==============================] - 41s 1ms/step - loss: 0.4523 - acc: 0.8565\n",
      "Epoch 2/4\n",
      "30000/30000 [==============================] - 31s 1ms/step - loss: 0.1425 - acc: 0.9592\n",
      "Epoch 3/4\n",
      "30000/30000 [==============================] - 30s 1ms/step - loss: 0.1061 - acc: 0.9688\n",
      "Epoch 4/4\n",
      "30000/30000 [==============================] - 30s 1ms/step - loss: 0.0855 - acc: 0.9761\n",
      "30000/30000 [==============================] - 18s 614us/step\n",
      "30000/30000 [==============================] - 14s 475us/step\n",
      "Epoch 1/4\n",
      "30000/30000 [==============================] - 42s 1ms/step - loss: 0.7180 - acc: 0.7698\n",
      "Epoch 2/4\n",
      "30000/30000 [==============================] - 30s 1ms/step - loss: 0.2694 - acc: 0.9246\n",
      "Epoch 3/4\n",
      "30000/30000 [==============================] - 30s 1ms/step - loss: 0.1913 - acc: 0.9442\n",
      "Epoch 4/4\n",
      "30000/30000 [==============================] - 30s 991us/step - loss: 0.1648 - acc: 0.9537\n",
      "30000/30000 [==============================] - 18s 606us/step\n"
     ]
    },
    {
     "name": "stdout",
     "output_type": "stream",
     "text": [
      "30000/30000 [==============================] - 14s 466us/step\n",
      "Epoch 1/4\n",
      "30000/30000 [==============================] - 41s 1ms/step - loss: 0.6698 - acc: 0.7871\n",
      "Epoch 2/4\n",
      "30000/30000 [==============================] - 30s 1ms/step - loss: 0.2441 - acc: 0.9309\n",
      "Epoch 3/4\n",
      "30000/30000 [==============================] - 30s 996us/step - loss: 0.1809 - acc: 0.9484\n",
      "Epoch 4/4\n",
      "30000/30000 [==============================] - 30s 993us/step - loss: 0.1522 - acc: 0.9554\n",
      "30000/30000 [==============================] - 18s 615us/step\n",
      "30000/30000 [==============================] - 14s 456us/step\n"
     ]
    },
    {
     "name": "stderr",
     "output_type": "stream",
     "text": [
      "[Parallel(n_jobs=1)]: Done  32 out of  32 | elapsed: 75.4min finished\n"
     ]
    },
    {
     "name": "stdout",
     "output_type": "stream",
     "text": [
      "Epoch 1/4\n",
      "60000/60000 [==============================] - 70s 1ms/step - loss: 0.2331 - acc: 0.9275\n",
      "Epoch 2/4\n",
      "60000/60000 [==============================] - 59s 980us/step - loss: 0.0629 - acc: 0.9813\n",
      "Epoch 3/4\n",
      "60000/60000 [==============================] - 60s 998us/step - loss: 0.0485 - acc: 0.9855\n",
      "Epoch 4/4\n",
      "60000/60000 [==============================] - 60s 1ms/step - loss: 0.0395 - acc: 0.9882\n",
      "Best: 0.986233 using {'activation_1': 'relu', 'activation_2': 'relu', 'activation_3': 'relu', 'activation_4': 'relu', 'batch_size': 200, 'dropout_1': 0.5, 'dropout_2': 0.25, 'epochs': 4, 'kernel_size': [6, 6], 'optimizer': 'Adam', 'pool_size': [2, 2]}\n",
      "0.985067 (0.001200) with: {'activation_1': 'relu', 'activation_2': 'relu', 'activation_3': 'relu', 'activation_4': 'relu', 'batch_size': 200, 'dropout_1': 0.0, 'dropout_2': 0.0, 'epochs': 4, 'kernel_size': [6, 6], 'optimizer': 'Adam', 'pool_size': [2, 2]}\n",
      "0.985633 (0.000033) with: {'activation_1': 'relu', 'activation_2': 'relu', 'activation_3': 'relu', 'activation_4': 'relu', 'batch_size': 200, 'dropout_1': 0.0, 'dropout_2': 0.25, 'epochs': 4, 'kernel_size': [6, 6], 'optimizer': 'Adam', 'pool_size': [2, 2]}\n",
      "0.985267 (0.000767) with: {'activation_1': 'relu', 'activation_2': 'relu', 'activation_3': 'relu', 'activation_4': 'relu', 'batch_size': 200, 'dropout_1': 0.0, 'dropout_2': 0.5, 'epochs': 4, 'kernel_size': [6, 6], 'optimizer': 'Adam', 'pool_size': [2, 2]}\n",
      "0.984033 (0.000900) with: {'activation_1': 'relu', 'activation_2': 'relu', 'activation_3': 'relu', 'activation_4': 'relu', 'batch_size': 200, 'dropout_1': 0.0, 'dropout_2': 0.75, 'epochs': 4, 'kernel_size': [6, 6], 'optimizer': 'Adam', 'pool_size': [2, 2]}\n",
      "0.984600 (0.003033) with: {'activation_1': 'relu', 'activation_2': 'relu', 'activation_3': 'relu', 'activation_4': 'relu', 'batch_size': 200, 'dropout_1': 0.25, 'dropout_2': 0.0, 'epochs': 4, 'kernel_size': [6, 6], 'optimizer': 'Adam', 'pool_size': [2, 2]}\n",
      "0.985683 (0.000583) with: {'activation_1': 'relu', 'activation_2': 'relu', 'activation_3': 'relu', 'activation_4': 'relu', 'batch_size': 200, 'dropout_1': 0.25, 'dropout_2': 0.25, 'epochs': 4, 'kernel_size': [6, 6], 'optimizer': 'Adam', 'pool_size': [2, 2]}\n",
      "0.985517 (0.000850) with: {'activation_1': 'relu', 'activation_2': 'relu', 'activation_3': 'relu', 'activation_4': 'relu', 'batch_size': 200, 'dropout_1': 0.25, 'dropout_2': 0.5, 'epochs': 4, 'kernel_size': [6, 6], 'optimizer': 'Adam', 'pool_size': [2, 2]}\n",
      "0.982900 (0.000133) with: {'activation_1': 'relu', 'activation_2': 'relu', 'activation_3': 'relu', 'activation_4': 'relu', 'batch_size': 200, 'dropout_1': 0.25, 'dropout_2': 0.75, 'epochs': 4, 'kernel_size': [6, 6], 'optimizer': 'Adam', 'pool_size': [2, 2]}\n",
      "0.984850 (0.001517) with: {'activation_1': 'relu', 'activation_2': 'relu', 'activation_3': 'relu', 'activation_4': 'relu', 'batch_size': 200, 'dropout_1': 0.5, 'dropout_2': 0.0, 'epochs': 4, 'kernel_size': [6, 6], 'optimizer': 'Adam', 'pool_size': [2, 2]}\n",
      "0.986233 (0.000233) with: {'activation_1': 'relu', 'activation_2': 'relu', 'activation_3': 'relu', 'activation_4': 'relu', 'batch_size': 200, 'dropout_1': 0.5, 'dropout_2': 0.25, 'epochs': 4, 'kernel_size': [6, 6], 'optimizer': 'Adam', 'pool_size': [2, 2]}\n",
      "0.978417 (0.007717) with: {'activation_1': 'relu', 'activation_2': 'relu', 'activation_3': 'relu', 'activation_4': 'relu', 'batch_size': 200, 'dropout_1': 0.5, 'dropout_2': 0.5, 'epochs': 4, 'kernel_size': [6, 6], 'optimizer': 'Adam', 'pool_size': [2, 2]}\n",
      "0.985100 (0.001067) with: {'activation_1': 'relu', 'activation_2': 'relu', 'activation_3': 'relu', 'activation_4': 'relu', 'batch_size': 200, 'dropout_1': 0.5, 'dropout_2': 0.75, 'epochs': 4, 'kernel_size': [6, 6], 'optimizer': 'Adam', 'pool_size': [2, 2]}\n",
      "0.984033 (0.002100) with: {'activation_1': 'relu', 'activation_2': 'relu', 'activation_3': 'relu', 'activation_4': 'relu', 'batch_size': 200, 'dropout_1': 0.75, 'dropout_2': 0.0, 'epochs': 4, 'kernel_size': [6, 6], 'optimizer': 'Adam', 'pool_size': [2, 2]}\n",
      "0.985033 (0.000433) with: {'activation_1': 'relu', 'activation_2': 'relu', 'activation_3': 'relu', 'activation_4': 'relu', 'batch_size': 200, 'dropout_1': 0.75, 'dropout_2': 0.25, 'epochs': 4, 'kernel_size': [6, 6], 'optimizer': 'Adam', 'pool_size': [2, 2]}\n",
      "0.985400 (0.000400) with: {'activation_1': 'relu', 'activation_2': 'relu', 'activation_3': 'relu', 'activation_4': 'relu', 'batch_size': 200, 'dropout_1': 0.75, 'dropout_2': 0.5, 'epochs': 4, 'kernel_size': [6, 6], 'optimizer': 'Adam', 'pool_size': [2, 2]}\n",
      "0.981467 (0.001300) with: {'activation_1': 'relu', 'activation_2': 'relu', 'activation_3': 'relu', 'activation_4': 'relu', 'batch_size': 200, 'dropout_1': 0.75, 'dropout_2': 0.75, 'epochs': 4, 'kernel_size': [6, 6], 'optimizer': 'Adam', 'pool_size': [2, 2]}\n",
      "Best: 0.986233 using {'activation_1': 'relu', 'activation_2': 'relu', 'activation_3': 'relu', 'activation_4': 'relu', 'batch_size': 200, 'dropout_1': 0.5, 'dropout_2': 0.25, 'epochs': 4, 'kernel_size': [6, 6], 'optimizer': 'Adam', 'pool_size': [2, 2]}\n",
      "10000/10000 [==============================] - 9s 924us/step\n",
      "Test Accuracy 0.9927000069618225\n"
     ]
    }
   ],
   "source": [
    "#dropouts grid search over 0.0, 0.25, 0.50, 0.75\n",
    "seed = 42\n",
    "np.random.seed(seed)\n",
    "\n",
    "param_grid = {'epochs': [4],\n",
    "              'batch_size': [200],\n",
    "              'optimizer': ['Adam'],\n",
    "              'activation_1' : ['relu'],\n",
    "              'activation_2' : ['relu'],\n",
    "              'activation_3' : ['relu'],\n",
    "              'activation_4' : ['relu'],\n",
    "              'kernel_size' : [[6,6]],\n",
    "              'pool_size' : [[2,2]],\n",
    "              'dropout_1' : [0.0, 0.25, 0.5, 0.75],\n",
    "              'dropout_2' : [0.0, 0.25, 0.5, 0.75]\n",
    "             }\n",
    "\n",
    "\n",
    "my_classifier = KerasClassifier(create_model)\n",
    "\n",
    "grid = GridSearchCV(my_classifier, param_grid, cv=2, n_jobs=1, verbose=1)\n",
    "\n",
    "grid_result = grid.fit(x_train, y_train)\n",
    "# summarize results\n",
    "print(\"Best: %f using %s\" % (grid_result.best_score_, grid_result.best_params_))\n",
    "means = grid_result.cv_results_['mean_test_score']\n",
    "stds = grid_result.cv_results_['std_test_score']\n",
    "params = grid_result.cv_results_['params']\n",
    "for mean, stdev, param in zip(means, stds, params):\n",
    "    print(\"%f (%f) with: %r\" % (mean, stdev, param))\n",
    "    \n",
    "# Print Results\n",
    "print(\"Best: %f using %s\" % (grid_result.best_score_, grid_result.best_params_))\n",
    "\n",
    "# Print Test Accuracy\n",
    "print(\"Test Accuracy\", grid_result.score(x_test, y_test))\n"
   ]
  },
  {
   "cell_type": "markdown",
   "metadata": {},
   "source": [
    "# BEST DROPOUTRATES: 1. 0.5, 2. 0.25\n",
    "    "
   ]
  },
  {
   "cell_type": "markdown",
   "metadata": {},
   "source": [
    "The assignement says to use some kind of regularizer to limit overfitting, so I've chosen keras bias and kernel regularizers. I have never worked with regularizers before so my choice of regularizers might be somewhat arbitrary. \n",
    "\n",
    "The grid search is over 0.0001, 0.001, and 0.01 for all 4 regularizers"
   ]
  },
  {
   "cell_type": "code",
   "execution_count": 48,
   "metadata": {
    "scrolled": true
   },
   "outputs": [
    {
     "name": "stdout",
     "output_type": "stream",
     "text": [
      "Fitting 2 folds for each of 9 candidates, totalling 18 fits\n"
     ]
    },
    {
     "name": "stderr",
     "output_type": "stream",
     "text": [
      "[Parallel(n_jobs=1)]: Using backend SequentialBackend with 1 concurrent workers.\n"
     ]
    },
    {
     "name": "stdout",
     "output_type": "stream",
     "text": [
      "Epoch 1/4\n",
      "30000/30000 [==============================] - 42s 1ms/step - loss: 0.4097 - acc: 0.8791\n",
      "Epoch 2/4\n",
      "30000/30000 [==============================] - 31s 1ms/step - loss: 0.1357 - acc: 0.9689\n",
      "Epoch 3/4\n",
      "30000/30000 [==============================] - 31s 1ms/step - loss: 0.1121 - acc: 0.9778\n",
      "Epoch 4/4\n",
      "30000/30000 [==============================] - 30s 1ms/step - loss: 0.1011 - acc: 0.9810\n",
      "30000/30000 [==============================] - 19s 631us/step\n",
      "30000/30000 [==============================] - 14s 466us/step\n",
      "Epoch 1/4\n",
      "30000/30000 [==============================] - 42s 1ms/step - loss: 0.3939 - acc: 0.8835\n",
      "Epoch 2/4\n",
      "30000/30000 [==============================] - 31s 1ms/step - loss: 0.1302 - acc: 0.9711\n",
      "Epoch 3/4\n",
      "30000/30000 [==============================] - 31s 1ms/step - loss: 0.1083 - acc: 0.9789\n",
      "Epoch 4/4\n",
      "30000/30000 [==============================] - 30s 997us/step - loss: 0.0962 - acc: 0.9833\n",
      "30000/30000 [==============================] - 18s 603us/step\n",
      "30000/30000 [==============================] - 14s 457us/step\n",
      "Epoch 1/4\n",
      "30000/30000 [==============================] - 39s 1ms/step - loss: 0.4815 - acc: 0.8882\n",
      "Epoch 2/4\n",
      "30000/30000 [==============================] - 27s 910us/step - loss: 0.2025 - acc: 0.97135s - loss: 0 - ETA: 2s - loss: 0.2038\n",
      "Epoch 3/4\n",
      "30000/30000 [==============================] - 28s 920us/step - loss: 0.1758 - acc: 0.9764\n",
      "Epoch 4/4\n",
      "30000/30000 [==============================] - 28s 938us/step - loss: 0.1574 - acc: 0.9803\n",
      "30000/30000 [==============================] - 17s 572us/step\n",
      "30000/30000 [==============================] - 13s 438us/step\n",
      "Epoch 1/4\n",
      "30000/30000 [==============================] - 38s 1ms/step - loss: 0.5393 - acc: 0.8688\n",
      "Epoch 2/4\n",
      "30000/30000 [==============================] - 29s 974us/step - loss: 0.2188 - acc: 0.9666\n",
      "Epoch 3/4\n",
      "30000/30000 [==============================] - 31s 1ms/step - loss: 0.1792 - acc: 0.9762\n",
      "Epoch 4/4\n",
      "30000/30000 [==============================] - 30s 1ms/step - loss: 0.1705 - acc: 0.9772\n",
      "30000/30000 [==============================] - 19s 649us/step\n",
      "30000/30000 [==============================] - 14s 475us/step\n",
      "Epoch 1/4\n",
      "30000/30000 [==============================] - 44s 1ms/step - loss: 0.8474 - acc: 0.8563\n",
      "Epoch 2/4\n",
      "30000/30000 [==============================] - 30s 1ms/step - loss: 0.3568 - acc: 0.9515\n",
      "Epoch 3/4\n",
      "30000/30000 [==============================] - 30s 1ms/step - loss: 0.2993 - acc: 0.9629\n",
      "Epoch 4/4\n",
      "30000/30000 [==============================] - 31s 1ms/step - loss: 0.2821 - acc: 0.9679\n",
      "30000/30000 [==============================] - 19s 642us/step\n",
      "30000/30000 [==============================] - 14s 477us/step\n",
      "Epoch 1/4\n",
      "30000/30000 [==============================] - 43s 1ms/step - loss: 0.7809 - acc: 0.8673\n",
      "Epoch 2/4\n",
      "30000/30000 [==============================] - 30s 1ms/step - loss: 0.3583 - acc: 0.9527\n",
      "Epoch 3/4\n",
      "30000/30000 [==============================] - 30s 1ms/step - loss: 0.3020 - acc: 0.9641\n",
      "Epoch 4/4\n",
      "30000/30000 [==============================] - 30s 1ms/step - loss: 0.2836 - acc: 0.9684\n",
      "30000/30000 [==============================] - 19s 638us/step\n",
      "30000/30000 [==============================] - 14s 470us/step\n",
      "Epoch 1/4\n",
      "30000/30000 [==============================] - 43s 1ms/step - loss: 0.4524 - acc: 0.8713\n",
      "Epoch 2/4\n",
      "30000/30000 [==============================] - 31s 1ms/step - loss: 0.1686 - acc: 0.9681\n",
      "Epoch 3/4\n",
      "30000/30000 [==============================] - 31s 1ms/step - loss: 0.1435 - acc: 0.9763\n",
      "Epoch 4/4\n",
      "30000/30000 [==============================] - 31s 1ms/step - loss: 0.1310 - acc: 0.9799\n",
      "30000/30000 [==============================] - 20s 651us/step\n",
      "30000/30000 [==============================] - 14s 477us/step\n",
      "Epoch 1/4\n",
      "30000/30000 [==============================] - 44s 1ms/step - loss: 0.4931 - acc: 0.8621\n",
      "Epoch 2/4\n",
      "30000/30000 [==============================] - 31s 1ms/step - loss: 0.1843 - acc: 0.9635\n",
      "Epoch 3/4\n",
      "30000/30000 [==============================] - 30s 1ms/step - loss: 0.1560 - acc: 0.9727\n",
      "Epoch 4/4\n",
      "30000/30000 [==============================] - 31s 1ms/step - loss: 0.1335 - acc: 0.9794\n",
      "30000/30000 [==============================] - 19s 641us/step\n",
      "30000/30000 [==============================] - 14s 479us/step\n",
      "Epoch 1/4\n",
      "30000/30000 [==============================] - 44s 1ms/step - loss: 0.5349 - acc: 0.8779\n",
      "Epoch 2/4\n",
      "30000/30000 [==============================] - 30s 1ms/step - loss: 0.2464 - acc: 0.9646\n",
      "Epoch 3/4\n",
      "30000/30000 [==============================] - 31s 1ms/step - loss: 0.2092 - acc: 0.9715\n",
      "Epoch 4/4\n",
      "30000/30000 [==============================] - 31s 1ms/step - loss: 0.1912 - acc: 0.9768\n",
      "30000/30000 [==============================] - 19s 640us/step\n",
      "30000/30000 [==============================] - 14s 481us/step\n",
      "Epoch 1/4\n",
      "30000/30000 [==============================] - 44s 1ms/step - loss: 0.5742 - acc: 0.8658\n",
      "Epoch 2/4\n",
      "30000/30000 [==============================] - 31s 1ms/step - loss: 0.2534 - acc: 0.9653\n",
      "Epoch 3/4\n",
      "30000/30000 [==============================] - 31s 1ms/step - loss: 0.2088 - acc: 0.9737\n",
      "Epoch 4/4\n",
      "30000/30000 [==============================] - 31s 1ms/step - loss: 0.1856 - acc: 0.9761\n",
      "30000/30000 [==============================] - 20s 660us/step\n",
      "30000/30000 [==============================] - 14s 477us/step\n",
      "Epoch 1/4\n",
      "30000/30000 [==============================] - 43s 1ms/step - loss: 0.8099 - acc: 0.8654\n",
      "Epoch 2/4\n",
      "30000/30000 [==============================] - 31s 1ms/step - loss: 0.3891 - acc: 0.9511\n",
      "Epoch 3/4\n",
      "30000/30000 [==============================] - 31s 1ms/step - loss: 0.3436 - acc: 0.9616\n",
      "Epoch 4/4\n",
      "30000/30000 [==============================] - 31s 1ms/step - loss: 0.3142 - acc: 0.9670\n",
      "30000/30000 [==============================] - 20s 660us/step\n",
      "30000/30000 [==============================] - 15s 485us/step\n",
      "Epoch 1/4\n",
      "30000/30000 [==============================] - 45s 1ms/step - loss: 0.8196 - acc: 0.8575\n",
      "Epoch 2/4\n",
      "30000/30000 [==============================] - 30s 1ms/step - loss: 0.3909 - acc: 0.9508\n",
      "Epoch 3/4\n",
      "30000/30000 [==============================] - 31s 1ms/step - loss: 0.4010 - acc: 0.9532\n",
      "Epoch 4/4\n",
      "30000/30000 [==============================] - 31s 1ms/step - loss: 0.3063 - acc: 0.9662\n",
      "30000/30000 [==============================] - 19s 646us/step\n",
      "30000/30000 [==============================] - 14s 483us/step\n",
      "Epoch 1/4\n",
      "30000/30000 [==============================] - 45s 1ms/step - loss: 0.5623 - acc: 0.8698\n",
      "Epoch 2/4\n",
      "30000/30000 [==============================] - 31s 1ms/step - loss: 0.2212 - acc: 0.9613\n",
      "Epoch 3/4\n",
      "30000/30000 [==============================] - 31s 1ms/step - loss: 0.1978 - acc: 0.9672\n",
      "Epoch 4/4\n",
      "30000/30000 [==============================] - 31s 1ms/step - loss: 0.1795 - acc: 0.9711\n",
      "30000/30000 [==============================] - 20s 667us/step\n",
      "30000/30000 [==============================] - 14s 481us/step\n",
      "Epoch 1/4\n",
      "30000/30000 [==============================] - 45s 1ms/step - loss: 0.5636 - acc: 0.8630\n",
      "Epoch 2/4\n",
      "30000/30000 [==============================] - 29s 977us/step - loss: 0.2266 - acc: 0.9615\n",
      "Epoch 3/4\n",
      "30000/30000 [==============================] - 31s 1ms/step - loss: 0.1960 - acc: 0.9684\n",
      "Epoch 4/4\n",
      "30000/30000 [==============================] - 31s 1ms/step - loss: 0.1815 - acc: 0.9727\n",
      "30000/30000 [==============================] - 19s 650us/step\n",
      "30000/30000 [==============================] - 14s 465us/step\n",
      "Epoch 1/4\n",
      "30000/30000 [==============================] - 45s 1ms/step - loss: 0.6667 - acc: 0.8663\n",
      "Epoch 2/4\n",
      "30000/30000 [==============================] - 31s 1ms/step - loss: 0.3151 - acc: 0.9553\n",
      "Epoch 3/4\n",
      "30000/30000 [==============================] - 31s 1ms/step - loss: 0.2732 - acc: 0.9617\n",
      "Epoch 4/4\n",
      "30000/30000 [==============================] - 31s 1ms/step - loss: 0.2478 - acc: 0.9674\n",
      "30000/30000 [==============================] - 20s 663us/step\n",
      "30000/30000 [==============================] - 14s 480us/step\n",
      "Epoch 1/4\n",
      "30000/30000 [==============================] - 45s 2ms/step - loss: 0.6669 - acc: 0.8610\n",
      "Epoch 2/4\n",
      "30000/30000 [==============================] - 30s 1ms/step - loss: 0.3078 - acc: 0.9552\n",
      "Epoch 3/4\n",
      "30000/30000 [==============================] - 31s 1ms/step - loss: 0.2646 - acc: 0.9624\n",
      "Epoch 4/4\n",
      "30000/30000 [==============================] - 31s 1ms/step - loss: 0.2431 - acc: 0.9672\n",
      "30000/30000 [==============================] - 20s 672us/step\n",
      "30000/30000 [==============================] - 15s 490us/step\n",
      "Epoch 1/4\n",
      "30000/30000 [==============================] - 46s 2ms/step - loss: 0.9308 - acc: 0.8474\n",
      "Epoch 2/4\n",
      "30000/30000 [==============================] - 31s 1ms/step - loss: 0.4302 - acc: 0.9408\n",
      "Epoch 3/4\n",
      "30000/30000 [==============================] - 31s 1ms/step - loss: 0.4181 - acc: 0.9430\n",
      "Epoch 4/4\n",
      "30000/30000 [==============================] - 31s 1ms/step - loss: 0.3862 - acc: 0.9555\n",
      "30000/30000 [==============================] - 20s 667us/step\n",
      "30000/30000 [==============================] - 14s 480us/step\n",
      "Epoch 1/4\n",
      "30000/30000 [==============================] - 45s 2ms/step - loss: 1.0200 - acc: 0.8417\n",
      "Epoch 2/4\n",
      "30000/30000 [==============================] - 31s 1ms/step - loss: 0.4665 - acc: 0.9381\n",
      "Epoch 3/4\n",
      "30000/30000 [==============================] - 31s 1ms/step - loss: 0.3804 - acc: 0.9508\n",
      "Epoch 4/4\n",
      "30000/30000 [==============================] - 30s 1ms/step - loss: 0.6033 - acc: 0.9243\n",
      "30000/30000 [==============================] - 20s 667us/step\n",
      "30000/30000 [==============================] - 14s 481us/step\n"
     ]
    },
    {
     "name": "stderr",
     "output_type": "stream",
     "text": [
      "[Parallel(n_jobs=1)]: Done  18 out of  18 | elapsed: 50.8min finished\n"
     ]
    },
    {
     "name": "stdout",
     "output_type": "stream",
     "text": [
      "Epoch 1/4\n",
      "60000/60000 [==============================] - 77s 1ms/step - loss: 0.2784 - acc: 0.9212\n",
      "Epoch 2/4\n",
      "60000/60000 [==============================] - 62s 1ms/step - loss: 0.1135 - acc: 0.9781\n",
      "Epoch 3/4\n",
      "60000/60000 [==============================] - 61s 1ms/step - loss: 0.0980 - acc: 0.9837\n",
      "Epoch 4/4\n",
      "60000/60000 [==============================] - 62s 1ms/step - loss: 0.0920 - acc: 0.9862\n",
      "Best: 0.986700 using {'activation_1': 'relu', 'activation_2': 'relu', 'activation_3': 'relu', 'activation_4': 'relu', 'batch_size': 200, 'breg1': 0.0, 'breg2': 0.0, 'dropout_1': 0.5, 'dropout_2': 0.25, 'epochs': 4, 'kernel_size': [6, 6], 'kreg1': 0.0001, 'kreg2': 0.0001, 'optimizer': 'Adam', 'pool_size': [2, 2]}\n",
      "0.986700 (0.000200) with: {'activation_1': 'relu', 'activation_2': 'relu', 'activation_3': 'relu', 'activation_4': 'relu', 'batch_size': 200, 'breg1': 0.0, 'breg2': 0.0, 'dropout_1': 0.5, 'dropout_2': 0.25, 'epochs': 4, 'kernel_size': [6, 6], 'kreg1': 0.0001, 'kreg2': 0.0001, 'optimizer': 'Adam', 'pool_size': [2, 2]}\n",
      "0.982600 (0.001933) with: {'activation_1': 'relu', 'activation_2': 'relu', 'activation_3': 'relu', 'activation_4': 'relu', 'batch_size': 200, 'breg1': 0.0, 'breg2': 0.0, 'dropout_1': 0.5, 'dropout_2': 0.25, 'epochs': 4, 'kernel_size': [6, 6], 'kreg1': 0.0001, 'kreg2': 0.001, 'optimizer': 'Adam', 'pool_size': [2, 2]}\n",
      "0.979017 (0.000050) with: {'activation_1': 'relu', 'activation_2': 'relu', 'activation_3': 'relu', 'activation_4': 'relu', 'batch_size': 200, 'breg1': 0.0, 'breg2': 0.0, 'dropout_1': 0.5, 'dropout_2': 0.25, 'epochs': 4, 'kernel_size': [6, 6], 'kreg1': 0.0001, 'kreg2': 0.01, 'optimizer': 'Adam', 'pool_size': [2, 2]}\n",
      "0.981900 (0.002467) with: {'activation_1': 'relu', 'activation_2': 'relu', 'activation_3': 'relu', 'activation_4': 'relu', 'batch_size': 200, 'breg1': 0.0, 'breg2': 0.0, 'dropout_1': 0.5, 'dropout_2': 0.25, 'epochs': 4, 'kernel_size': [6, 6], 'kreg1': 0.001, 'kreg2': 0.0001, 'optimizer': 'Adam', 'pool_size': [2, 2]}\n",
      "0.982917 (0.000683) with: {'activation_1': 'relu', 'activation_2': 'relu', 'activation_3': 'relu', 'activation_4': 'relu', 'batch_size': 200, 'breg1': 0.0, 'breg2': 0.0, 'dropout_1': 0.5, 'dropout_2': 0.25, 'epochs': 4, 'kernel_size': [6, 6], 'kreg1': 0.001, 'kreg2': 0.001, 'optimizer': 'Adam', 'pool_size': [2, 2]}\n",
      "0.975967 (0.002033) with: {'activation_1': 'relu', 'activation_2': 'relu', 'activation_3': 'relu', 'activation_4': 'relu', 'batch_size': 200, 'breg1': 0.0, 'breg2': 0.0, 'dropout_1': 0.5, 'dropout_2': 0.25, 'epochs': 4, 'kernel_size': [6, 6], 'kreg1': 0.001, 'kreg2': 0.01, 'optimizer': 'Adam', 'pool_size': [2, 2]}\n",
      "0.979800 (0.002400) with: {'activation_1': 'relu', 'activation_2': 'relu', 'activation_3': 'relu', 'activation_4': 'relu', 'batch_size': 200, 'breg1': 0.0, 'breg2': 0.0, 'dropout_1': 0.5, 'dropout_2': 0.25, 'epochs': 4, 'kernel_size': [6, 6], 'kreg1': 0.01, 'kreg2': 0.0001, 'optimizer': 'Adam', 'pool_size': [2, 2]}\n",
      "0.966983 (0.009950) with: {'activation_1': 'relu', 'activation_2': 'relu', 'activation_3': 'relu', 'activation_4': 'relu', 'batch_size': 200, 'breg1': 0.0, 'breg2': 0.0, 'dropout_1': 0.5, 'dropout_2': 0.25, 'epochs': 4, 'kernel_size': [6, 6], 'kreg1': 0.01, 'kreg2': 0.001, 'optimizer': 'Adam', 'pool_size': [2, 2]}\n",
      "0.964483 (0.004483) with: {'activation_1': 'relu', 'activation_2': 'relu', 'activation_3': 'relu', 'activation_4': 'relu', 'batch_size': 200, 'breg1': 0.0, 'breg2': 0.0, 'dropout_1': 0.5, 'dropout_2': 0.25, 'epochs': 4, 'kernel_size': [6, 6], 'kreg1': 0.01, 'kreg2': 0.01, 'optimizer': 'Adam', 'pool_size': [2, 2]}\n",
      "Best: 0.986700 using {'activation_1': 'relu', 'activation_2': 'relu', 'activation_3': 'relu', 'activation_4': 'relu', 'batch_size': 200, 'breg1': 0.0, 'breg2': 0.0, 'dropout_1': 0.5, 'dropout_2': 0.25, 'epochs': 4, 'kernel_size': [6, 6], 'kreg1': 0.0001, 'kreg2': 0.0001, 'optimizer': 'Adam', 'pool_size': [2, 2]}\n",
      "10000/10000 [==============================] - 10s 1ms/step\n",
      "Test Accuracy 0.9904000079631805\n"
     ]
    }
   ],
   "source": [
    "from keras import regularizers\n",
    "def create_model(optimizer, activation_1, activation_2, activation_3, activation_4, kernel_size, pool_size, dropout_1, dropout_2, kreg1, kreg2, breg1, breg2):\n",
    "    model = Sequential()\n",
    "    # First convolutional layer\n",
    "    model.add(layers.Conv2D(6, kernel_size=kernel_size, strides=(1, 1), activation=activation_1, input_shape=(28,28,1), padding=\"same\"))\n",
    "\n",
    "    # First pooling layer\n",
    "    model.add(layers.AveragePooling2D(pool_size=pool_size, strides=(1, 1), padding='valid'))\n",
    "    \n",
    "    # Second convolutional layer\n",
    "    model.add(layers.Conv2D(16, kernel_size=kernel_size, strides=(1, 1), activation=activation_2, padding='valid'))\n",
    "    \n",
    "    # Second pooling layer\n",
    "    model.add(layers.AveragePooling2D(pool_size=pool_size, strides=(2, 2), padding='valid'))\n",
    "    \n",
    "    # Connected convolutional layer\n",
    "    model.add(layers.Conv2D(120, kernel_regularizer=regularizers.l2(kreg1), bias_regularizer=regularizers.l2(breg1), kernel_size=kernel_size, strides=(1, 1), activation=activation_3, padding='valid'))\n",
    "    model.add(layers.Flatten())\n",
    "    model.add(Dropout(dropout_1)) \n",
    "    # Connected layer\n",
    "    model.add(layers.Dense(84, kernel_regularizer=regularizers.l2(kreg2), bias_regularizer=regularizers.l2(breg2), activation=activation_4))\n",
    "    model.add(Dropout(dropout_2)) \n",
    "    # Output layer\n",
    "    model.add(layers.Dense(10, activation='softmax'))\n",
    "    \n",
    "    # build/compile\n",
    "    model.compile(loss=keras.losses.categorical_crossentropy, optimizer='Nadam', metrics=[\"accuracy\"])\n",
    "    return model\n",
    "\n",
    "seed = 42\n",
    "np.random.seed(seed)\n",
    "\n",
    "param_grid = {'epochs': [4],\n",
    "              'batch_size': [200],\n",
    "              'optimizer': ['Adam'],\n",
    "              'activation_1' : ['relu'],\n",
    "              'activation_2' : ['relu'],\n",
    "              'activation_3' : ['relu'],\n",
    "              'activation_4' : ['relu'],\n",
    "              'kernel_size' : [[6,6]],\n",
    "              'pool_size' : [[2,2]],\n",
    "              'dropout_1' : [0.5],\n",
    "              'dropout_2' : [0.25],\n",
    "              'kreg1' : [0.0001, 0.001 ,0.01],\n",
    "              'kreg2' : [0.0001, 0.001 ,0.01],\n",
    "              'breg1' : [0.0],\n",
    "              'breg2' : [0.0]\n",
    "             }\n",
    "\n",
    "\n",
    "my_classifier = KerasClassifier(create_model)\n",
    "\n",
    "grid = GridSearchCV(my_classifier, param_grid, cv=2, n_jobs=1, verbose=1)\n",
    "\n",
    "grid_result = grid.fit(x_train, y_train)\n",
    "# summarize results\n",
    "print(\"Best: %f using %s\" % (grid_result.best_score_, grid_result.best_params_))\n",
    "means = grid_result.cv_results_['mean_test_score']\n",
    "stds = grid_result.cv_results_['std_test_score']\n",
    "params = grid_result.cv_results_['params']\n",
    "for mean, stdev, param in zip(means, stds, params):\n",
    "    print(\"%f (%f) with: %r\" % (mean, stdev, param))\n",
    "    \n",
    "print(\"Best: %f using %s\" % (grid_result.best_score_, grid_result.best_params_))\n",
    "print(\"Test Accuracy\", grid_result.score(x_test, y_test))"
   ]
  },
  {
   "cell_type": "markdown",
   "metadata": {},
   "source": [
    "# BEST REGULARIZER LEVELS:\n",
    "    Kernel regularizer 1: 0.0001\n",
    "    Kernel regularizer 2: 0.0001\n",
    "    Bias regularizer 1: 0.0001\n",
    "    Bias regularizer 2: 0.0001\n",
    "    \n",
    "    These parameters to be fair are not made to be tuned in this manner. As i understand these are for limiting overfitting, so I first need a model which is overfitting, aswell as a CPU upgrade before I can properly tune this. "
   ]
  },
  {
   "cell_type": "code",
   "execution_count": 49,
   "metadata": {},
   "outputs": [
    {
     "name": "stdout",
     "output_type": "stream",
     "text": [
      "Train on 60000 samples, validate on 10000 samples\n",
      "Epoch 1/20\n",
      "60000/60000 [==============================] - 74s 1ms/step - loss: 0.5949 - acc: 0.8517 - val_loss: 0.3162 - val_acc: 0.9127\n",
      "Epoch 2/20\n",
      "60000/60000 [==============================] - 57s 950us/step - loss: 0.2964 - acc: 0.9156 - val_loss: 0.2484 - val_acc: 0.9312\n",
      "Epoch 3/20\n",
      "60000/60000 [==============================] - 55s 923us/step - loss: 0.2431 - acc: 0.9307 - val_loss: 0.2097 - val_acc: 0.9414\n",
      "Epoch 4/20\n",
      "60000/60000 [==============================] - 53s 877us/step - loss: 0.2100 - acc: 0.9396 - val_loss: 0.1845 - val_acc: 0.9487\n",
      "Epoch 5/20\n",
      "60000/60000 [==============================] - 52s 869us/step - loss: 0.1857 - acc: 0.9473 - val_loss: 0.1665 - val_acc: 0.9536\n",
      "Epoch 6/20\n",
      "60000/60000 [==============================] - 56s 937us/step - loss: 0.1672 - acc: 0.9524 - val_loss: 0.1511 - val_acc: 0.9579\n",
      "Epoch 7/20\n",
      "60000/60000 [==============================] - 60s 1ms/step - loss: 0.1525 - acc: 0.9566 - val_loss: 0.1393 - val_acc: 0.9615\n",
      "Epoch 8/20\n",
      "60000/60000 [==============================] - 60s 995us/step - loss: 0.1401 - acc: 0.9606 - val_loss: 0.1292 - val_acc: 0.9634\n",
      "Epoch 9/20\n",
      "60000/60000 [==============================] - 60s 1ms/step - loss: 0.1297 - acc: 0.9639 - val_loss: 0.1207 - val_acc: 0.9659\n",
      "Epoch 10/20\n",
      "60000/60000 [==============================] - 61s 1ms/step - loss: 0.1209 - acc: 0.9660 - val_loss: 0.1134 - val_acc: 0.9678\n",
      "Epoch 11/20\n",
      "60000/60000 [==============================] - 60s 1ms/step - loss: 0.1130 - acc: 0.9687 - val_loss: 0.1076 - val_acc: 0.9697\n",
      "Epoch 12/20\n",
      "60000/60000 [==============================] - 60s 999us/step - loss: 0.1062 - acc: 0.9706 - val_loss: 0.1024 - val_acc: 0.9700\n",
      "Epoch 13/20\n",
      "60000/60000 [==============================] - 61s 1ms/step - loss: 0.1000 - acc: 0.9719 - val_loss: 0.0968 - val_acc: 0.9725\n",
      "Epoch 14/20\n",
      "60000/60000 [==============================] - 61s 1ms/step - loss: 0.0945 - acc: 0.9743 - val_loss: 0.0918 - val_acc: 0.9712\n",
      "Epoch 15/20\n",
      "60000/60000 [==============================] - 60s 1ms/step - loss: 0.0895 - acc: 0.9753 - val_loss: 0.0885 - val_acc: 0.9732\n",
      "Epoch 16/20\n",
      "60000/60000 [==============================] - 59s 991us/step - loss: 0.0849 - acc: 0.9770 - val_loss: 0.0843 - val_acc: 0.9748\n",
      "Epoch 17/20\n",
      "60000/60000 [==============================] - 59s 987us/step - loss: 0.0808 - acc: 0.9776 - val_loss: 0.0822 - val_acc: 0.9757\n",
      "Epoch 18/20\n",
      "60000/60000 [==============================] - 61s 1ms/step - loss: 0.0770 - acc: 0.9792 - val_loss: 0.0778 - val_acc: 0.9767\n",
      "Epoch 19/20\n",
      "60000/60000 [==============================] - 61s 1ms/step - loss: 0.0736 - acc: 0.9798 - val_loss: 0.0767 - val_acc: 0.9766\n",
      "Epoch 20/20\n",
      "60000/60000 [==============================] - 61s 1ms/step - loss: 0.0704 - acc: 0.9811 - val_loss: 0.0738 - val_acc: 0.9785\n",
      "10000/10000 [==============================] - 8s 768us/step\n",
      "Test loss 0.0738, accuracy 97.85%\n"
     ]
    }
   ],
   "source": [
    "# ORIGINAL MODEL ARCHITECTURE\n",
    "model = Sequential()\n",
    "#First convolutional layer\n",
    "model.add(layers.Conv2D(6, kernel_size=(5,5), strides=(1, 1), activation='tanh', input_shape=(28,28,1), padding=\"same\"))\n",
    "# First pooling layer\n",
    "model.add(layers.AveragePooling2D(pool_size=(2,2), strides=(1, 1), padding='valid'))\n",
    "\n",
    "# Second convolutional layer\n",
    "model.add(layers.Conv2D(16, kernel_size=(5,5), strides=(1, 1), activation='tanh', padding='valid'))\n",
    " \n",
    "# Second pooling layer\n",
    "model.add(layers.AveragePooling2D(pool_size=(2,2), strides=(2, 2), padding='valid'))\n",
    "   \n",
    "# Connected convolutional layer\n",
    "model.add(layers.Conv2D(120, kernel_size=(5,5), strides=(1, 1), activation='tanh', padding='valid'))\n",
    "model.add(layers.Flatten())\n",
    "# Connected layer\n",
    "model.add(layers.Dense(84, activation='tanh'))\n",
    "# Output layer\n",
    "model.add(layers.Dense(10, activation='softmax'))\n",
    "  \n",
    "# build/compile\n",
    "model.compile(loss=keras.losses.categorical_crossentropy, optimizer='SGD', metrics=[\"accuracy\"])\n",
    "    \n",
    "hist = model.fit(x=x_train,y=y_train, epochs=20, batch_size=128, validation_data=(x_test, y_test), verbose=1)\n",
    "test_score = model.evaluate(x_test, y_test)\n",
    "print(\"Test loss {:.4f}, accuracy {:.2f}%\".format(test_score[0], test_score[1] * 100))"
   ]
  },
  {
   "cell_type": "markdown",
   "metadata": {},
   "source": [
    "# Original architecture performance\n",
    "    Here is the performance of the nerual net before hyperparameter tuning. \n",
    "    Validation loss: 0.0738\n",
    "    Validation Accuracy: 97.85%"
   ]
  },
  {
   "cell_type": "code",
   "execution_count": 50,
   "metadata": {},
   "outputs": [
    {
     "data": {
      "text/plain": [
       "Text(0, 0.5, 'acc')"
      ]
     },
     "execution_count": 50,
     "metadata": {},
     "output_type": "execute_result"
    },
    {
     "data": {
      "image/png": "[encoded data removed]",
      "text/plain": [
       "<Figure size 432x288 with 1 Axes>"
      ]
     },
     "metadata": {
      "needs_background": "light"
     },
     "output_type": "display_data"
    }
   ],
   "source": [
    "f, ax = plt.subplots()\n",
    "ax.plot([None] + hist.history['acc'], 'o-')\n",
    "ax.plot([None] + hist.history['val_acc'], 'x-')\n",
    "ax.legend(['Train acc', 'Validation acc'], loc = 0)\n",
    "ax.set_title('Training/Validation acc per Epoch')\n",
    "ax.set_xlabel('Epoch')\n",
    "ax.set_ylabel('acc')"
   ]
  },
  {
   "cell_type": "code",
   "execution_count": 51,
   "metadata": {},
   "outputs": [
    {
     "data": {
      "text/plain": [
       "Text(0, 0.5, 'Loss')"
      ]
     },
     "execution_count": 51,
     "metadata": {},
     "output_type": "execute_result"
    },
    {
     "data": {
      "image/png": "[encoded data removed]",
      "text/plain": [
       "<Figure size 432x288 with 1 Axes>"
      ]
     },
     "metadata": {
      "needs_background": "light"
     },
     "output_type": "display_data"
    }
   ],
   "source": [
    "f, ax = plt.subplots()\n",
    "ax.plot([None] + hist.history['loss'], 'o-')\n",
    "ax.plot([None] + hist.history['val_loss'], 'x-')\n",
    "ax.legend(['Train Loss', 'Validation Loss'], loc = 0)\n",
    "ax.set_title('Training/Validation Loss per Epoch')\n",
    "ax.set_xlabel('Epoch')\n",
    "ax.set_ylabel('Loss')"
   ]
  },
  {
   "cell_type": "code",
   "execution_count": 52,
   "metadata": {
    "scrolled": true
   },
   "outputs": [
    {
     "name": "stdout",
     "output_type": "stream",
     "text": [
      "Train on 60000 samples, validate on 10000 samples\n",
      "Epoch 1/20\n",
      "60000/60000 [==============================] - 68s 1ms/step - loss: 4.3140 - acc: 0.6660 - val_loss: 0.0973 - val_acc: 0.9770\n",
      "Epoch 2/20\n",
      "60000/60000 [==============================] - 50s 831us/step - loss: 4.1153 - acc: 0.7262 - val_loss: 0.0770 - val_acc: 0.9838\n",
      "Epoch 3/20\n",
      "60000/60000 [==============================] - 52s 866us/step - loss: 4.0719 - acc: 0.7352 - val_loss: 0.0690 - val_acc: 0.9869\n",
      "Epoch 4/20\n",
      "60000/60000 [==============================] - 57s 943us/step - loss: 4.1020 - acc: 0.7352 - val_loss: 0.0614 - val_acc: 0.9881\n",
      "Epoch 5/20\n",
      "60000/60000 [==============================] - 62s 1ms/step - loss: 4.1350 - acc: 0.7351 - val_loss: 0.0649 - val_acc: 0.9892\n",
      "Epoch 6/20\n",
      "60000/60000 [==============================] - 63s 1ms/step - loss: 4.0833 - acc: 0.7397 - val_loss: 0.0646 - val_acc: 0.9888\n",
      "Epoch 7/20\n",
      "60000/60000 [==============================] - 63s 1ms/step - loss: 4.1157 - acc: 0.7377 - val_loss: 0.0606 - val_acc: 0.9902\n",
      "Epoch 8/20\n",
      "60000/60000 [==============================] - 64s 1ms/step - loss: 4.0941 - acc: 0.7395 - val_loss: 0.0661 - val_acc: 0.9880\n",
      "Epoch 9/20\n",
      "60000/60000 [==============================] - 62s 1ms/step - loss: 4.1550 - acc: 0.7366 - val_loss: 0.0586 - val_acc: 0.9903\n",
      "Epoch 10/20\n",
      "60000/60000 [==============================] - 62s 1ms/step - loss: 4.0597 - acc: 0.7426 - val_loss: 0.0566 - val_acc: 0.9902\n",
      "Epoch 11/20\n",
      "60000/60000 [==============================] - 64s 1ms/step - loss: 4.0552 - acc: 0.7436 - val_loss: 0.0530 - val_acc: 0.9915\n",
      "Epoch 12/20\n",
      "60000/60000 [==============================] - 64s 1ms/step - loss: 4.0674 - acc: 0.7429 - val_loss: 0.0581 - val_acc: 0.9893\n",
      "Epoch 13/20\n",
      "60000/60000 [==============================] - 64s 1ms/step - loss: 4.1374 - acc: 0.7392 - val_loss: 0.0532 - val_acc: 0.9907\n",
      "Epoch 14/20\n",
      "60000/60000 [==============================] - 63s 1ms/step - loss: 4.0703 - acc: 0.7431 - val_loss: 0.0517 - val_acc: 0.9922\n",
      "Epoch 15/20\n",
      "60000/60000 [==============================] - 63s 1ms/step - loss: 4.1216 - acc: 0.7403 - val_loss: 0.0549 - val_acc: 0.9925\n",
      "Epoch 16/20\n",
      "60000/60000 [==============================] - 64s 1ms/step - loss: 4.1001 - acc: 0.7421 - val_loss: 0.0567 - val_acc: 0.9909\n",
      "Epoch 17/20\n",
      "60000/60000 [==============================] - 63s 1ms/step - loss: 4.0584 - acc: 0.7443 - val_loss: 0.0546 - val_acc: 0.9913\n",
      "Epoch 18/20\n",
      "60000/60000 [==============================] - 62s 1ms/step - loss: 4.0897 - acc: 0.7428 - val_loss: 0.0554 - val_acc: 0.9915\n",
      "Epoch 19/20\n",
      "60000/60000 [==============================] - 61s 1ms/step - loss: 4.0538 - acc: 0.7450 - val_loss: 0.0518 - val_acc: 0.9919\n",
      "Epoch 20/20\n",
      "60000/60000 [==============================] - 62s 1ms/step - loss: 4.0752 - acc: 0.7443 - val_loss: 0.0459 - val_acc: 0.9933\n",
      "10000/10000 [==============================] - 9s 907us/step\n",
      "Test loss 0.0459, accuracy 99.33%\n"
     ]
    }
   ],
   "source": [
    "model = Sequential()\n",
    "# First convolutional layer\n",
    "model.add(layers.Conv2D(6, kernel_size=(6,6), strides=(1, 1), activation='relu', input_shape=(28,28,1), padding=\"same\"))\n",
    "# First pooling layer\n",
    "model.add(layers.AveragePooling2D(pool_size=(2,2), strides=(1, 1), padding='valid'))\n",
    " \n",
    "# Second convolutional layer\n",
    "model.add(layers.Conv2D(16, kernel_size=(6,6), strides=(1, 1), activation='relu', padding='valid'))\n",
    " \n",
    "# Second pooling layer\n",
    "model.add(layers.AveragePooling2D(pool_size=(2,2), strides=(2, 2), padding='valid'))\n",
    "\n",
    "# Connected convolutional layer\n",
    "model.add(layers.Conv2D(120, kernel_regularizer=regularizers.l2(0.0001), bias_regularizer=regularizers.l2(0.0001), kernel_size=(4,4), strides=(1, 1), activation='relu', padding='valid'))\n",
    "model.add(layers.Flatten())\n",
    "# Connected layer\n",
    "model.add(layers.Dense(84, kernel_regularizer=regularizers.l2(0.0001), bias_regularizer=regularizers.l2(0.0001), activation='relu'))\n",
    "model.add(Dropout(0.5)) \n",
    "# Output layer\n",
    "model.add(layers.Dense(10, activation='softmax'))\n",
    "model.add(Dropout(0.25)) \n",
    "# build/compile\n",
    "model.compile(loss=keras.losses.categorical_crossentropy, optimizer='Adam', metrics=[\"accuracy\"])\n",
    "    \n",
    "hist = model.fit(x=x_train,y=y_train, epochs=20, batch_size=200, validation_data=(x_test, y_test), verbose=1)\n",
    "test_score = model.evaluate(x_test, y_test)\n",
    "print(\"Test loss {:.4f}, accuracy {:.2f}%\".format(test_score[0], test_score[1] * 100))"
   ]
  },
  {
   "cell_type": "markdown",
   "metadata": {},
   "source": [
    "# Grid Search Tuned model performance\n",
    "    Here is the model's performance after all grid search steps.\n",
    "    Validation loss: 0.0459\n",
    "    Validation accuracy 99.33%\n",
    "    What I dont understand is why validation accuracy is so much higher than the training accuracy, does this mean my validation set is too small, or that the model is underfitting a lot? \n",
    "    I am going to tweak some more parameters by hand, to figure out where this problem is coming from. "
   ]
  },
  {
   "cell_type": "code",
   "execution_count": 55,
   "metadata": {},
   "outputs": [
    {
     "data": {
      "text/plain": [
       "Text(0, 0.5, 'acc')"
      ]
     },
     "execution_count": 55,
     "metadata": {},
     "output_type": "execute_result"
    },
    {
     "data": {
      "image/png": "[encoded data removed]",
      "text/plain": [
       "<Figure size 432x288 with 1 Axes>"
      ]
     },
     "metadata": {
      "needs_background": "light"
     },
     "output_type": "display_data"
    }
   ],
   "source": [
    "f, ax = plt.subplots()\n",
    "ax.plot([None] + hist.history['acc'], 'o-')\n",
    "ax.plot([None] + hist.history['val_acc'], 'x-')\n",
    "ax.legend(['Train acc', 'Validation acc'], loc = 0)\n",
    "ax.set_title('Training/Validation acc per Epoch')\n",
    "ax.set_xlabel('Epoch')\n",
    "ax.set_ylabel('acc')"
   ]
  },
  {
   "cell_type": "code",
   "execution_count": 56,
   "metadata": {},
   "outputs": [
    {
     "data": {
      "text/plain": [
       "Text(0, 0.5, 'Loss')"
      ]
     },
     "execution_count": 56,
     "metadata": {},
     "output_type": "execute_result"
    },
    {
     "data": {
      "image/png": "[encoded data removed]",
      "text/plain": [
       "<Figure size 432x288 with 1 Axes>"
      ]
     },
     "metadata": {
      "needs_background": "light"
     },
     "output_type": "display_data"
    }
   ],
   "source": [
    "f, ax = plt.subplots()\n",
    "ax.plot([None] + hist.history['loss'], 'o-')\n",
    "ax.plot([None] + hist.history['val_loss'], 'x-')\n",
    "ax.legend(['Train Loss', 'Validation Loss'], loc = 0)\n",
    "ax.set_title('Training/Validation Loss per Epoch')\n",
    "ax.set_xlabel('Epoch')\n",
    "ax.set_ylabel('Loss')"
   ]
  },
  {
   "cell_type": "markdown",
   "metadata": {},
   "source": [
    "# Freehand tuning, final score: \n",
    "        It seems like the problem with the obscure validation loss and accury lies with the dropouts. After removing the dropout in the connected convolutional layer and only having a dropout layer in the fully connected one, things started to look alot better.\n",
    "        resource: https://stats.stackexchange.com/questions/240305/where-should-i-place-dropout-layers-in-a-neural-network\n",
    "       "
   ]
  },
  {
   "cell_type": "code",
   "execution_count": 18,
   "metadata": {},
   "outputs": [
    {
     "name": "stdout",
     "output_type": "stream",
     "text": [
      "Train on 60000 samples, validate on 10000 samples\n",
      "Epoch 1/20\n",
      "60000/60000 [==============================] - 56s 938us/step - loss: 0.3767 - acc: 0.8910 - val_loss: 0.0953 - val_acc: 0.9771\n",
      "Epoch 2/20\n",
      "60000/60000 [==============================] - 56s 929us/step - loss: 0.1264 - acc: 0.9714 - val_loss: 0.0823 - val_acc: 0.9826\n",
      "Epoch 3/20\n",
      "60000/60000 [==============================] - 57s 952us/step - loss: 0.0986 - acc: 0.9809 - val_loss: 0.0709 - val_acc: 0.9873\n",
      "Epoch 4/20\n",
      "60000/60000 [==============================] - 56s 940us/step - loss: 0.0837 - acc: 0.9851 - val_loss: 0.0618 - val_acc: 0.9893\n",
      "Epoch 5/20\n",
      "60000/60000 [==============================] - 58s 963us/step - loss: 0.0747 - acc: 0.9877 - val_loss: 0.0640 - val_acc: 0.9901\n",
      "Epoch 6/20\n",
      "60000/60000 [==============================] - 57s 950us/step - loss: 0.0694 - acc: 0.9892 - val_loss: 0.0588 - val_acc: 0.9913\n",
      "Epoch 7/20\n",
      "60000/60000 [==============================] - 57s 954us/step - loss: 0.0668 - acc: 0.9894 - val_loss: 0.0577 - val_acc: 0.9912\n",
      "Epoch 8/20\n",
      "60000/60000 [==============================] - 57s 956us/step - loss: 0.0634 - acc: 0.9908 - val_loss: 0.0541 - val_acc: 0.9923\n",
      "Epoch 9/20\n",
      "60000/60000 [==============================] - 56s 941us/step - loss: 0.0589 - acc: 0.9921 - val_loss: 0.0560 - val_acc: 0.9919\n",
      "Epoch 10/20\n",
      "60000/60000 [==============================] - 57s 942us/step - loss: 0.0581 - acc: 0.9922 - val_loss: 0.0565 - val_acc: 0.9924\n",
      "Epoch 11/20\n",
      "60000/60000 [==============================] - 56s 942us/step - loss: 0.0562 - acc: 0.9923 - val_loss: 0.0571 - val_acc: 0.9925\n",
      "Epoch 12/20\n",
      "60000/60000 [==============================] - 56s 941us/step - loss: 0.0565 - acc: 0.9931 - val_loss: 0.0547 - val_acc: 0.9919\n",
      "Epoch 13/20\n",
      "60000/60000 [==============================] - 56s 941us/step - loss: 0.0547 - acc: 0.9933 - val_loss: 0.0669 - val_acc: 0.9900\n",
      "Epoch 14/20\n",
      "60000/60000 [==============================] - 57s 951us/step - loss: 0.0531 - acc: 0.9934 - val_loss: 0.0580 - val_acc: 0.9922\n",
      "Epoch 15/20\n",
      "60000/60000 [==============================] - 57s 954us/step - loss: 0.0537 - acc: 0.9932 - val_loss: 0.0587 - val_acc: 0.9923\n",
      "Epoch 16/20\n",
      "60000/60000 [==============================] - 57s 948us/step - loss: 0.0552 - acc: 0.9928 - val_loss: 0.0538 - val_acc: 0.9929\n",
      "Epoch 17/20\n",
      "60000/60000 [==============================] - 57s 950us/step - loss: 0.0496 - acc: 0.9946 - val_loss: 0.0533 - val_acc: 0.9927\n",
      "Epoch 18/20\n",
      "60000/60000 [==============================] - 58s 969us/step - loss: 0.0487 - acc: 0.9943 - val_loss: 0.0593 - val_acc: 0.9914\n",
      "Epoch 19/20\n",
      "60000/60000 [==============================] - 59s 986us/step - loss: 0.0517 - acc: 0.9938 - val_loss: 0.0576 - val_acc: 0.9922\n",
      "Epoch 20/20\n",
      "60000/60000 [==============================] - 57s 949us/step - loss: 0.0481 - acc: 0.9945 - val_loss: 0.0543 - val_acc: 0.9924\n",
      "10000/10000 [==============================] - 3s 272us/step\n",
      "Test loss 0.0543, accuracy 99.24%\n"
     ]
    }
   ],
   "source": [
    "model = Sequential()\n",
    "# First convolutional layer\n",
    "model.add(layers.Conv2D(6, kernel_size=(6,6), strides=(1, 1), activation='relu', input_shape=(28,28,1), padding=\"same\"))\n",
    "# First pooling layer\n",
    "model.add(layers.AveragePooling2D(pool_size=(2,2), strides=(1, 1), padding='valid'))\n",
    " \n",
    "# Second convolutional layer\n",
    "model.add(layers.Conv2D(16, kernel_size=(6,6), strides=(1, 1), activation='relu', padding='valid'))\n",
    " \n",
    "# Second pooling layer\n",
    "model.add(layers.AveragePooling2D(pool_size=(2,2), strides=(2, 2), padding='valid'))\n",
    "\n",
    "# Connected convolutional layer\n",
    "model.add(layers.Conv2D(120, kernel_regularizer=regularizers.l2(0.0001), bias_regularizer=regularizers.l2(0.0001), kernel_size=(6,6), strides=(1, 1), activation='relu', padding='valid'))\n",
    "model.add(layers.Flatten())\n",
    "# Connected layer\n",
    "model.add(layers.Dense(84, kernel_regularizer=regularizers.l2(0.0001), bias_regularizer=regularizers.l2(0.0001), activation='relu'))\n",
    "model.add(Dropout(0.5)) \n",
    "# Output layer\n",
    "model.add(layers.Dense(10, activation='softmax'))\n",
    "# build/compile\n",
    "model.compile(loss=keras.losses.categorical_crossentropy, optimizer='Adam', metrics=[\"accuracy\"])\n",
    "    \n",
    "hist = model.fit(x=x_train,y=y_train, epochs=20, batch_size=200, validation_data=(x_test, y_test), verbose=1)\n",
    "test_score = model.evaluate(x_test, y_test)\n",
    "print(\"Test loss {:.4f}, accuracy {:.2f}%\".format(test_score[0], test_score[1] * 100))"
   ]
  },
  {
   "cell_type": "code",
   "execution_count": 19,
   "metadata": {},
   "outputs": [
    {
     "data": {
      "text/plain": [
       "Text(0, 0.5, 'acc')"
      ]
     },
     "execution_count": 19,
     "metadata": {},
     "output_type": "execute_result"
    },
    {
     "data": {
      "image/png": "[encoded data removed]",
      "text/plain": [
       "<Figure size 432x288 with 1 Axes>"
      ]
     },
     "metadata": {
      "needs_background": "light"
     },
     "output_type": "display_data"
    }
   ],
   "source": [
    "f, ax = plt.subplots()\n",
    "ax.plot([None] + hist.history['acc'], 'o-')\n",
    "ax.plot([None] + hist.history['val_acc'], 'x-')\n",
    "ax.legend(['Train acc', 'Validation acc'], loc = 0)\n",
    "ax.set_title('Training/Validation acc per Epoch')\n",
    "ax.set_xlabel('Epoch')\n",
    "ax.set_ylabel('acc')"
   ]
  },
  {
   "cell_type": "code",
   "execution_count": 20,
   "metadata": {},
   "outputs": [
    {
     "data": {
      "text/plain": [
       "Text(0, 0.5, 'Loss')"
      ]
     },
     "execution_count": 20,
     "metadata": {},
     "output_type": "execute_result"
    },
    {
     "data": {
      "image/png": "[encoded data removed]",
      "text/plain": [
       "<Figure size 432x288 with 1 Axes>"
      ]
     },
     "metadata": {
      "needs_background": "light"
     },
     "output_type": "display_data"
    }
   ],
   "source": [
    "f, ax = plt.subplots()\n",
    "ax.plot([None] + hist.history['loss'], 'o-')\n",
    "ax.plot([None] + hist.history['val_loss'], 'x-')\n",
    "ax.legend(['Train Loss', 'Validation Loss'], loc = 0)\n",
    "ax.set_title('Training/Validation Loss per Epoch')\n",
    "ax.set_xlabel('Epoch')\n",
    "ax.set_ylabel('Loss')"
   ]
  },
  {
   "cell_type": "markdown",
   "metadata": {},
   "source": [
    "# Data generator\n",
    "    The assignement also asked for a data generator. \n",
    "    For this I had to follow a guide for custom data generators\n",
    "    resource: https://towardsdatascience.com/keras-custom-data-generators-example-with-mnist-dataset-2a7a2d2b0360\n",
    "    \n",
    "    Now, looking at the results of this further below, something has went wrong. The validation accuracy never reaches beyond 20 %. It must be implemented wrong, but I can not figure out why. This is how far I got."
   ]
  },
  {
   "cell_type": "code",
   "execution_count": 4,
   "metadata": {},
   "outputs": [],
   "source": [
    "import tensorflow as tf\n",
    "import math\n",
    "class DataGenerator(tf.compat.v2.keras.utils.Sequence):\n",
    " \n",
    "    def __init__(self, X_data , y_data, batch_size, dim, n_classes,\n",
    "                 to_fit, shuffle = True):\n",
    "        self.batch_size = batch_size\n",
    "        self.X_data = X_data\n",
    "        self.labels = y_data\n",
    "        self.y_data = y_data\n",
    "        self.to_fit = to_fit\n",
    "        self.n_classes = n_classes\n",
    "        self.dim = dim\n",
    "        self.shuffle = shuffle\n",
    "        self.n = 0\n",
    "        self.list_IDs = np.arange(len(self.X_data))\n",
    "        self.on_epoch_end()\n",
    "    def __next__(self):\n",
    "        # Get one batch of data\n",
    "        data = self.__getitem__(self.n)\n",
    "        # Batch index\n",
    "        self.n += 1\n",
    "        \n",
    "        # If we have processed the entire dataset then\n",
    "        if self.n >= self.__len__():\n",
    "            self.on_epoch_end\n",
    "            self.n = 0\n",
    "        \n",
    "        return data\n",
    "    def __len__(self):\n",
    "        # Return the number of batches of the dataset\n",
    "        return math.ceil(len(self.indexes)/self.batch_size)\n",
    "    def __getitem__(self, index):\n",
    "        # Generate indexes of the batch\n",
    "        indexes = self.indexes[index*self.batch_size:\n",
    "            (index+1)*self.batch_size]\n",
    "        # Find list of IDs\n",
    "        list_IDs_temp = [self.list_IDs[k] for k in indexes]\n",
    "        \n",
    "        X = self._generate_x(list_IDs_temp)\n",
    "        \n",
    "        if self.to_fit:\n",
    "            y = self._generate_y(list_IDs_temp)\n",
    "            return X, y\n",
    "        else:\n",
    "            return X\n",
    "    def on_epoch_end(self):\n",
    "        \n",
    "        self.indexes = np.arange(len(self.X_data))\n",
    "        \n",
    "        if self.shuffle: \n",
    "            np.random.shuffle(self.indexes)\n",
    "    def _generate_x(self, list_IDs_temp):\n",
    "               \n",
    "        X = np.empty((self.batch_size, *self.dim))\n",
    "        \n",
    "        for i, ID in enumerate(list_IDs_temp):\n",
    "            \n",
    "            X[i,] = self.X_data[ID]\n",
    "            \n",
    "            # Normalize data\n",
    "            X = (X/255).astype('float32')\n",
    "            \n",
    "        return X[:,:,:, np.newaxis]\n",
    "    def _generate_y(self, list_IDs_temp):\n",
    "        \n",
    "        y = np.empty(self.batch_size)\n",
    "        \n",
    "        for i, ID in enumerate(list_IDs_temp):\n",
    "            \n",
    "            y[i] = self.y_data[ID]\n",
    "            \n",
    "        return keras.utils.to_categorical(\n",
    "                y,num_classes=self.n_classes)"
   ]
  },
  {
   "cell_type": "code",
   "execution_count": 21,
   "metadata": {},
   "outputs": [],
   "source": [
    "(x_train, y_train), (x_test, y_test) = mnist.load_data()\n",
    "train_generator = DataGenerator(x_train, y_train, batch_size = 64,\n",
    "                                dim = (28,28),\n",
    "                                n_classes=10, \n",
    "                                to_fit=True, shuffle=True)\n",
    "val_generator =  DataGenerator(x_test, y_test, batch_size=64, \n",
    "                               dim = (28,28), \n",
    "                               n_classes= 10, \n",
    "                               to_fit=True, shuffle=True)\n",
    "steps_per_epoch = len(train_generator)\n",
    "validation_steps = len(val_generator)\n",
    "#FINAL\n",
    "model = Sequential()\n",
    "# First convolutional layer\n",
    "model.add(layers.Conv2D(6, kernel_size=(4,4), strides=(1, 1), activation='relu', input_shape=(28,28,1), padding=\"same\"))\n",
    " # First pooling layer\n",
    "model.add(layers.AveragePooling2D(pool_size=(1,1), strides=(1, 1), padding='valid'))\n",
    " \n",
    "# Second convolutional layer\n",
    "model.add(layers.Conv2D(16, kernel_size=(4,4), strides=(1, 1), activation='relu', padding='valid'))\n",
    "    \n",
    "   # Second pooling layer\n",
    "model.add(layers.AveragePooling2D(pool_size=(1,1), strides=(2, 2), padding='valid'))\n",
    "  \n",
    "    # Connected convolutional layer\n",
    "model.add(layers.Conv2D(120, kernel_regularizer=regularizers.l2(0.0001), bias_regularizer=regularizers.l2(0.0001), kernel_size=(4,4), strides=(1, 1), activation='relu', padding='valid'))\n",
    "model.add(layers.Flatten())\n",
    "    # Connected layer\n",
    "model.add(layers.Dense(84, kernel_regularizer=regularizers.l2(0.0001), bias_regularizer=regularizers.l2(0.0001), activation='relu'))\n",
    "model.add(Dropout(0.25)) \n",
    "   # Output layer\n",
    "model.add(layers.Dense(10, activation='softmax'))\n",
    "    \n",
    "    # build/compile\n",
    "model.compile(loss=keras.losses.categorical_crossentropy, optimizer='Adam', metrics=[\"accuracy\"])\n"
   ]
  },
  {
   "cell_type": "code",
   "execution_count": 28,
   "metadata": {},
   "outputs": [
    {
     "name": "stdout",
     "output_type": "stream",
     "text": [
      "Epoch 1/4\n",
      "343/938 [=========>....................] - ETA: 37s - loss: nan - acc: 0.1003"
     ]
    },
    {
     "name": "stderr",
     "output_type": "stream",
     "text": [
      "C:\\Users\\sindr\\Anaconda3\\lib\\site-packages\\ipykernel_launcher.py:62: RuntimeWarning: invalid value encountered in true_divide\n"
     ]
    },
    {
     "name": "stdout",
     "output_type": "stream",
     "text": [
      "938/938 [==============================] - 60s 64ms/step - loss: nan - acc: 0.0987 - val_loss: nan - val_acc: 0.0979\n",
      "Epoch 2/4\n",
      "938/938 [==============================] - 59s 63ms/step - loss: nan - acc: 0.0987 - val_loss: nan - val_acc: 0.0979\n",
      "Epoch 3/4\n",
      "938/938 [==============================] - 59s 63ms/step - loss: nan - acc: 0.0987 - val_loss: nan - val_acc: 0.0979\n",
      "Epoch 4/4\n",
      "938/938 [==============================] - 59s 63ms/step - loss: nan - acc: 0.0987 - val_loss: nan - val_acc: 0.0979\n"
     ]
    }
   ],
   "source": [
    "hist = model.fit_generator(\n",
    "        train_generator,\n",
    "        steps_per_epoch=steps_per_epoch,\n",
    "        epochs=4,\n",
    "        validation_data=val_generator,\n",
    "        validation_steps=validation_steps)    "
   ]
  },
  {
   "cell_type": "code",
   "execution_count": null,
   "metadata": {},
   "outputs": [],
   "source": []
  },
  {
   "cell_type": "code",
   "execution_count": 29,
   "metadata": {},
   "outputs": [
    {
     "data": {
      "text/plain": [
       "Text(0, 0.5, 'acc')"
      ]
     },
     "execution_count": 29,
     "metadata": {},
     "output_type": "execute_result"
    },
    {
     "data": {
      "image/png": "[encoded data removed]",
      "text/plain": [
       "<Figure size 432x288 with 1 Axes>"
      ]
     },
     "metadata": {
      "needs_background": "light"
     },
     "output_type": "display_data"
    }
   ],
   "source": [
    "f, ax = plt.subplots()\n",
    "ax.plot([None] + hist.history['acc'], 'o-')\n",
    "ax.plot([None] + hist.history['val_acc'], 'x-')\n",
    "ax.legend(['Train acc', 'Validation acc'], loc = 0)\n",
    "ax.set_title('Training/Validation acc per Epoch')\n",
    "ax.set_xlabel('Epoch')\n",
    "ax.set_ylabel('acc')"
   ]
  },
  {
   "cell_type": "code",
   "execution_count": null,
   "metadata": {},
   "outputs": [],
   "source": []
  },
  {
   "cell_type": "code",
   "execution_count": null,
   "metadata": {},
   "outputs": [],
   "source": []
  }
 ],
 "metadata": {
  "kernelspec": {
   "display_name": "Python 3",
   "language": "python",
   "name": "python3"
  },
  "language_info": {
   "codemirror_mode": {
    "name": "ipython",
    "version": 3
   },
   "file_extension": ".py",
   "mimetype": "text/x-python",
   "name": "python",
   "nbconvert_exporter": "python",
   "pygments_lexer": "ipython3",
   "version": "3.7.1"
  }
 },
 "nbformat": 4,
 "nbformat_minor": 2
}
